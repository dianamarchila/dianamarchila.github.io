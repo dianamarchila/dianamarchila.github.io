{
  "nbformat": 4,
  "nbformat_minor": 0,
  "metadata": {
    "colab": {
      "provenance": [],
      "mount_file_id": "1_Z7DR2gCggVVxW34673l_HXZYgEZj54A",
      "authorship_tag": "ABX9TyPxPyAE8WNxfrDPX8OfM38R",
      "include_colab_link": true
    },
    "kernelspec": {
      "name": "python3",
      "display_name": "Python 3"
    },
    "language_info": {
      "name": "python"
    }
  },
  "cells": [
    {
      "cell_type": "markdown",
      "metadata": {
        "id": "view-in-github",
        "colab_type": "text"
      },
      "source": [
        "<a href=\"https://colab.research.google.com/github/dianamarchila/dianamarchila.github.io/blob/main/DataModelling.ipynb\" target=\"_parent\"><img src=\"https://colab.research.google.com/assets/colab-badge.svg\" alt=\"Open In Colab\"/></a>"
      ]
    },
    {
      "cell_type": "markdown",
      "source": [
        "# **Proyecto predicción de la reserva de dinero para reclamaciones en empresas de seguros**\n",
        "\n",
        "**Data Modelling**\n",
        "\n",
        "Realizado por: Diana Archila Cordero"
      ],
      "metadata": {
        "id": "i44tJDCksCtC"
      }
    },
    {
      "cell_type": "code",
      "execution_count": null,
      "metadata": {
        "id": "gzNhIJlOrKbT",
        "outputId": "248a344f-2d9c-4890-b483-f6a9fbd4be58",
        "colab": {
          "base_uri": "https://localhost:8080/"
        }
      },
      "outputs": [
        {
          "output_type": "stream",
          "name": "stdout",
          "text": [
            "Collecting rpy2==3.5.1\n",
            "  Downloading rpy2-3.5.1.tar.gz (201 kB)\n",
            "\u001b[2K     \u001b[90m━━━━━━━━━━━━━━━━━━━━━━━━━━━━━━━━━━━━━━━━\u001b[0m \u001b[32m201.7/201.7 kB\u001b[0m \u001b[31m4.1 MB/s\u001b[0m eta \u001b[36m0:00:00\u001b[0m\n",
            "\u001b[?25h  Preparing metadata (setup.py) ... \u001b[?25l\u001b[?25hdone\n",
            "Requirement already satisfied: cffi>=1.10.0 in /usr/local/lib/python3.10/dist-packages (from rpy2==3.5.1) (1.16.0)\n",
            "Requirement already satisfied: jinja2 in /usr/local/lib/python3.10/dist-packages (from rpy2==3.5.1) (3.1.2)\n",
            "Requirement already satisfied: pytz in /usr/local/lib/python3.10/dist-packages (from rpy2==3.5.1) (2023.3.post1)\n",
            "Requirement already satisfied: tzlocal in /usr/local/lib/python3.10/dist-packages (from rpy2==3.5.1) (5.2)\n",
            "Requirement already satisfied: pycparser in /usr/local/lib/python3.10/dist-packages (from cffi>=1.10.0->rpy2==3.5.1) (2.21)\n",
            "Requirement already satisfied: MarkupSafe>=2.0 in /usr/local/lib/python3.10/dist-packages (from jinja2->rpy2==3.5.1) (2.1.3)\n",
            "Building wheels for collected packages: rpy2\n",
            "  Building wheel for rpy2 (setup.py) ... \u001b[?25l\u001b[?25hdone\n",
            "  Created wheel for rpy2: filename=rpy2-3.5.1-cp310-cp310-linux_x86_64.whl size=314924 sha256=da4ce6cf37a9dfad2bb711b935db88392b0eb2a0bc57b23b07a77f6d8d0ab3ff\n",
            "  Stored in directory: /root/.cache/pip/wheels/73/a6/ff/4e75dd1ce1cfa2b9a670cbccf6a1e41c553199e9b25f05d953\n",
            "Successfully built rpy2\n",
            "Installing collected packages: rpy2\n",
            "  Attempting uninstall: rpy2\n",
            "    Found existing installation: rpy2 3.4.2\n",
            "    Uninstalling rpy2-3.4.2:\n",
            "      Successfully uninstalled rpy2-3.4.2\n",
            "Successfully installed rpy2-3.5.1\n"
          ]
        }
      ],
      "source": [
        "# Configuración para ejecutar código de R\n",
        "!pip install rpy2==3.5.1\n",
        "%reload_ext rpy2.ipython"
      ]
    },
    {
      "cell_type": "code",
      "source": [
        "%%R # Comando que indica que la celda contiene código de R\n",
        "install.packages(\"dplyr\")\n",
        "require(dplyr)\n",
        "\n",
        "# Cargue del dataset\n",
        "data <- read.csv(\"/content/drive/MyDrive/ML /medmal_pos.csv\") %>% filter(GRCODE %in% c(669, 683, 7854, 32514, 33049, 33111, 36072, 36234, 36277, 36676, 40568, 40975, 41467, 43656, 43770, 44504))\n",
        "# Se excluyen aquellas empresas que tienen en 0 todos los valores de la matriz\n",
        "\n",
        "colnames(data)"
      ],
      "metadata": {
        "colab": {
          "base_uri": "https://localhost:8080/"
        },
        "id": "qbF-G8SfspgF",
        "outputId": "9cef07e6-1d81-40c9-ebcc-17739fd002fc"
      },
      "execution_count": null,
      "outputs": [
        {
          "output_type": "stream",
          "name": "stderr",
          "text": [
            "WARNING:rpy2.rinterface_lib.callbacks:R[write to console]: Loading required package: dplyr\n",
            "\n",
            "WARNING:rpy2.rinterface_lib.callbacks:R[write to console]: \n",
            "Attaching package: ‘dplyr’\n",
            "\n",
            "\n",
            "WARNING:rpy2.rinterface_lib.callbacks:R[write to console]: The following objects are masked from ‘package:stats’:\n",
            "\n",
            "    filter, lag\n",
            "\n",
            "\n",
            "WARNING:rpy2.rinterface_lib.callbacks:R[write to console]: The following objects are masked from ‘package:base’:\n",
            "\n",
            "    intersect, setdiff, setequal, union\n",
            "\n",
            "\n"
          ]
        },
        {
          "output_type": "stream",
          "name": "stdout",
          "text": [
            " [1] \"GRCODE\"             \"GRNAME\"             \"AccidentYear\"      \n",
            " [4] \"DevelopmentYear\"    \"DevelopmentLag\"     \"IncurLoss_F2\"      \n",
            " [7] \"CumPaidLoss_F2\"     \"BulkLoss_F2\"        \"EarnedPremDIR_F2\"  \n",
            "[10] \"EarnedPremCeded_F2\" \"EarnedPremNet_F2\"   \"Single\"            \n",
            "[13] \"PostedReserve97_F2\"\n"
          ]
        }
      ]
    },
    {
      "cell_type": "markdown",
      "source": [
        "## Datos de validación de desempeño de los modelos\n",
        "\n",
        "Se construyen las matrices de cada empresa, de manera que esta es la información que se utilizará para evaluar el desempeño de cada uno de los modelos aplicados. Estas matrices únicamente se usarán para las pruebas de cada modelo, más no como parte del entrenamiento de los mismos."
      ],
      "metadata": {
        "id": "4TbViBTxiHfm"
      }
    },
    {
      "cell_type": "code",
      "source": [
        "%%R\n",
        "require(dplyr)\n",
        "\n",
        "# Construcción de matrices de cada empresa, Variable: CumPaidLoss_F2\n",
        "real_data <- data %>% mutate(\n",
        "                   t0 = case_when(DevelopmentLag == 1 ~ CumPaidLoss_F2),\n",
        "                   t1 = case_when(DevelopmentLag == 2 ~ CumPaidLoss_F2),\n",
        "                   t2 = case_when(DevelopmentLag == 3 ~ CumPaidLoss_F2),\n",
        "                   t3 = case_when(DevelopmentLag == 4 ~ CumPaidLoss_F2),\n",
        "                   t4 = case_when(DevelopmentLag == 5 ~ CumPaidLoss_F2),\n",
        "                   t5 = case_when(DevelopmentLag == 6 ~ CumPaidLoss_F2),\n",
        "                   t6 = case_when(DevelopmentLag == 7 ~ CumPaidLoss_F2),\n",
        "                   t7 = case_when(DevelopmentLag == 8 ~ CumPaidLoss_F2),\n",
        "                   t8 = case_when(DevelopmentLag == 9 ~ CumPaidLoss_F2),\n",
        "                   t9 = case_when(DevelopmentLag == 10 ~ CumPaidLoss_F2)\n",
        "                   )\n",
        "real_data <- real_data %>% group_by(GRCODE, AccidentYear) %>%\n",
        "          summarise(t0 = sum(t0, na.rm = T),\n",
        "                    t1 = sum(t1, na.rm = T),\n",
        "                    t2 = sum(t2, na.rm = T),\n",
        "                    t3 = sum(t3, na.rm = T),\n",
        "                    t4 = sum(t4, na.rm = T),\n",
        "                    t5 = sum(t5, na.rm = T),\n",
        "                    t6 = sum(t6, na.rm = T),\n",
        "                    t7 = sum(t7, na.rm = T),\n",
        "                    t8 = sum(t8, na.rm = T),\n",
        "                    t9 = sum(t9, na.rm = T))\n",
        "\n",
        "print(head(real_data, 10))"
      ],
      "metadata": {
        "id": "vDzYDuyuvrA8",
        "colab": {
          "base_uri": "https://localhost:8080/"
        },
        "outputId": "526f71d1-a2be-4b67-d1e1-98d217970c6e"
      },
      "execution_count": null,
      "outputs": [
        {
          "output_type": "stream",
          "name": "stdout",
          "text": [
            "`summarise()` has grouped output by 'GRCODE'. You can override using the\n",
            "`.groups` argument.\n",
            "# A tibble: 10 × 12\n",
            "# Groups:   GRCODE [1]\n",
            "   GRCODE AccidentYear    t0    t1    t2    t3    t4    t5    t6    t7    t8\n",
            "    <int>        <int> <int> <int> <int> <int> <int> <int> <int> <int> <int>\n",
            " 1    669         1988  2716 24576 43990 59722 71019 76354 76792 77207 77588\n",
            " 2    669         1989  3835 25158 45145 60331 67457 70821 71769 72085 72035\n",
            " 3    669         1990  4838 27965 50873 66400 71875 74755 75176 75250 75250\n",
            " 4    669         1991  4456 34241 64737 79390 84465 87375 89119 89825 90333\n",
            " 5    669         1992  5970 36080 68268 81783 86076 87167 88282 88857 89087\n",
            " 6    669         1993  9398 46210 77045 86298 91796 93827 95871 95943 95987\n",
            " 7    669         1994  6181 39204 70006 82385 86523 88387 90408 90525 91640\n",
            " 8    669         1995  7828 42356 70729 79340 81142 81891 81905 81897 81781\n",
            " 9    669         1996  8854 51400 81653 90504 94284 96456 97305 97175 97212\n",
            "10    669         1997  7818 47098 84142 93724 97401 97726 98250 98355 98627\n",
            "# ℹ 1 more variable: t9 <int>\n"
          ]
        }
      ]
    },
    {
      "cell_type": "markdown",
      "source": [
        "## Información inicial\n",
        "\n",
        "El entrenamiento de los modelos, en todos los casos se hará con los triángulos superiores de la matriz propia de cada empresa, es decir donde el año de desarrollo del accidente es menor o igual a 1997."
      ],
      "metadata": {
        "id": "mmPeKuAMiuMh"
      }
    },
    {
      "cell_type": "code",
      "source": [
        "%%R\n",
        "require(dplyr)\n",
        "\n",
        "# Construcción de triángulos de cada empresa, Variable: CumPaidLoss_F2\n",
        "triang_data <- data %>% filter(DevelopmentYear<=1997) %>%\n",
        "            mutate(CumPaidLoss_F2 = as.double(CumPaidLoss_F2),\n",
        "                   t0 = case_when(DevelopmentLag == 1 ~ CumPaidLoss_F2),\n",
        "                   t1 = case_when(DevelopmentLag == 2 ~ CumPaidLoss_F2),\n",
        "                   t2 = case_when(DevelopmentLag == 3 ~ CumPaidLoss_F2),\n",
        "                   t3 = case_when(DevelopmentLag == 4 ~ CumPaidLoss_F2),\n",
        "                   t4 = case_when(DevelopmentLag == 5 ~ CumPaidLoss_F2),\n",
        "                   t5 = case_when(DevelopmentLag == 6 ~ CumPaidLoss_F2),\n",
        "                   t6 = case_when(DevelopmentLag == 7 ~ CumPaidLoss_F2),\n",
        "                   t7 = case_when(DevelopmentLag == 8 ~ CumPaidLoss_F2),\n",
        "                   t8 = case_when(DevelopmentLag == 9 ~ CumPaidLoss_F2),\n",
        "                   t9 = case_when(DevelopmentLag == 10 ~ CumPaidLoss_F2)\n",
        "                   )\n",
        "triang_data <- triang_data %>% group_by(GRCODE, AccidentYear) %>%\n",
        "          summarise(t0 = sum(t0, na.rm = T),\n",
        "                    t1 = sum(t1, na.rm = T),\n",
        "                    t2 = sum(t2, na.rm = T),\n",
        "                    t3 = sum(t3, na.rm = T),\n",
        "                    t4 = sum(t4, na.rm = T),\n",
        "                    t5 = sum(t5, na.rm = T),\n",
        "                    t6 = sum(t6, na.rm = T),\n",
        "                    t7 = sum(t7, na.rm = T),\n",
        "                    t8 = sum(t8, na.rm = T),\n",
        "                    t9 = sum(t9, na.rm = T)\n",
        "                    )\n",
        "\n",
        "print(head(triang_data, 100))"
      ],
      "metadata": {
        "id": "vAmliTBerWxH",
        "colab": {
          "base_uri": "https://localhost:8080/"
        },
        "outputId": "417b902b-c12f-4d92-ef03-2d4fd47b5f00"
      },
      "execution_count": null,
      "outputs": [
        {
          "output_type": "stream",
          "name": "stdout",
          "text": [
            "`summarise()` has grouped output by 'GRCODE'. You can override using the\n",
            "`.groups` argument.\n",
            "# A tibble: 100 × 12\n",
            "# Groups:   GRCODE [10]\n",
            "   GRCODE AccidentYear    t0    t1    t2    t3    t4    t5    t6    t7    t8\n",
            "    <int>        <int> <dbl> <dbl> <dbl> <dbl> <dbl> <dbl> <dbl> <dbl> <dbl>\n",
            " 1    669         1988  2716 24576 43990 59722 71019 76354 76792 77207 77588\n",
            " 2    669         1989  3835 25158 45145 60331 67457 70821 71769 72085 72035\n",
            " 3    669         1990  4838 27965 50873 66400 71875 74755 75176 75250     0\n",
            " 4    669         1991  4456 34241 64737 79390 84465 87375 89119     0     0\n",
            " 5    669         1992  5970 36080 68268 81783 86076 87167     0     0     0\n",
            " 6    669         1993  9398 46210 77045 86298 91796     0     0     0     0\n",
            " 7    669         1994  6181 39204 70006 82385     0     0     0     0     0\n",
            " 8    669         1995  7828 42356 70729     0     0     0     0     0     0\n",
            " 9    669         1996  8854 51400     0     0     0     0     0     0     0\n",
            "10    669         1997  7818     0     0     0     0     0     0     0     0\n",
            "# ℹ 90 more rows\n",
            "# ℹ 1 more variable: t9 <dbl>\n",
            "# ℹ Use `print(n = ...)` to see more rows\n"
          ]
        }
      ]
    },
    {
      "cell_type": "markdown",
      "source": [
        "## Modelo Chain-Ladder Determinista"
      ],
      "metadata": {
        "id": "KlYZfBHGeMrx"
      }
    },
    {
      "cell_type": "code",
      "source": [
        "%%R\n",
        "require(dplyr)\n",
        "\n",
        "# Estructura de entrenamiento y prueba de los modelos\n",
        "comp_codes <- data %>% group_by(GRCODE) %>% tally()\n",
        "\n",
        "# Información de desempeño del modelo\n",
        "perf_model <- data.frame()\n",
        "\n",
        "for(i in 1:nrow(comp_codes)){\n",
        "    comp_code_i <- comp_codes[i, 1]\n",
        "\n",
        "    # Exclusión de la matriz de prueba\n",
        "    train_data <- triang_data %>% filter(GRCODE == comp_code_i)\n",
        "\n",
        "    # Entrenamiento del modelo. Cálculo de factores de desarrollo\n",
        "    dev_fact <- c()\n",
        "\n",
        "    dev_fact_0 <- sum((train_data %>% filter(AccidentYear <= 1997-1))$t1)/sum((train_data %>% filter(AccidentYear <= 1997-1))$t0)\n",
        "    dev_fact_1 <- sum((train_data %>% filter(AccidentYear <= 1997-2))$t2)/sum((train_data %>% filter(AccidentYear <= 1997-2))$t1)\n",
        "    dev_fact_2 <- sum((train_data %>% filter(AccidentYear <= 1997-3))$t3)/sum((train_data %>% filter(AccidentYear <= 1997-3))$t2)\n",
        "    dev_fact_3 <- sum((train_data %>% filter(AccidentYear <= 1997-4))$t4)/sum((train_data %>% filter(AccidentYear <= 1997-4))$t3)\n",
        "    dev_fact_4 <- sum((train_data %>% filter(AccidentYear <= 1997-5))$t5)/sum((train_data %>% filter(AccidentYear <= 1997-5))$t4)\n",
        "    dev_fact_5 <- sum((train_data %>% filter(AccidentYear <= 1997-6))$t6)/sum((train_data %>% filter(AccidentYear <= 1997-6))$t5)\n",
        "    dev_fact_6 <- sum((train_data %>% filter(AccidentYear <= 1997-7))$t7)/sum((train_data %>% filter(AccidentYear <= 1997-7))$t6)\n",
        "    dev_fact_7 <- sum((train_data %>% filter(AccidentYear <= 1997-8))$t8)/sum((train_data %>% filter(AccidentYear <= 1997-8))$t7)\n",
        "    dev_fact_8 <- sum((train_data %>% filter(AccidentYear <= 1997-9))$t9)/sum((train_data %>% filter(AccidentYear <= 1997-9))$t8)\n",
        "\n",
        "    dev_fact <- c(dev_fact_0,\n",
        "                  dev_fact_1,\n",
        "                  dev_fact_2,\n",
        "                  dev_fact_3,\n",
        "                  dev_fact_4,\n",
        "                  dev_fact_5,\n",
        "                  dev_fact_6,\n",
        "                  dev_fact_7,\n",
        "                  dev_fact_8)\n",
        "\n",
        "    # Prueba del modelo\n",
        "    test <- train_data[3:ncol(train_data)]\n",
        "    real <- real_data %>% filter(GRCODE == comp_code_i)\n",
        "    real <- real[3:ncol(real)]\n",
        "\n",
        "    se <- c()\n",
        "    re <- c()\n",
        "\n",
        "    for(j in 2:10){\n",
        "        for(k in (ncol(test)-j+2):ncol(test)){\n",
        "            test[j, k] = (test[j, (k-1)] * dev_fact[k-1])\n",
        "\n",
        "            dif <- as.double((real[j, k] - test[j, k]))\n",
        "\n",
        "            se <- c(se, as.double((dif^2)))\n",
        "            re <- c(re, as.double((abs(dif)/real[j, k])*100))\n",
        "        }\n",
        "    }\n",
        "\n",
        "    MSE <- mean(se)\n",
        "    MAPE <- mean(re)\n",
        "\n",
        "    res_ml <- as.data.frame(c(comp_code_i, MSE, MAPE, 'CL_Det'))\n",
        "    colnames(res_ml) <- c('train_code', 'MSE', 'MAPE', 'model')\n",
        "\n",
        "    perf_model <- rbind(perf_model, res_ml)\n",
        "}\n",
        "\n",
        "print(perf_model)\n",
        "print(mean(perf_model$MAPE, na.rm=TRUE))"
      ],
      "metadata": {
        "id": "Tpd8oRlRv70n",
        "colab": {
          "base_uri": "https://localhost:8080/"
        },
        "outputId": "972b59bb-68d2-4663-f99e-3a207e2312e4"
      },
      "execution_count": null,
      "outputs": [
        {
          "output_type": "stream",
          "name": "stdout",
          "text": [
            "   train_code          MSE      MAPE  model\n",
            "1         669 2.416102e+08 11.861763 CL_Det\n",
            "2         683 4.536666e+07 16.109026 CL_Det\n",
            "3        7854 1.430287e+07 11.560831 CL_Det\n",
            "4       32514 9.688122e+06 45.388821 CL_Det\n",
            "5       33049 1.019248e+08 14.065446 CL_Det\n",
            "6       33111 5.931404e+07 26.303909 CL_Det\n",
            "7       36072          NaN       NaN CL_Det\n",
            "8       36234 1.958745e+06 12.089391 CL_Det\n",
            "9       36277 2.461716e+06 12.082369 CL_Det\n",
            "10      36676 7.201303e+05  4.527065 CL_Det\n",
            "11      40568 6.292751e+05 17.936511 CL_Det\n",
            "12      40975 4.251034e+06 13.820234 CL_Det\n",
            "13      41467 3.661659e+09 45.433572 CL_Det\n",
            "14      43656 1.678206e+06 10.731029 CL_Det\n",
            "15      43770 7.439463e+04 16.253352 CL_Det\n",
            "16      44504          NaN       NaN CL_Det\n",
            "[1] 18.44024\n"
          ]
        }
      ]
    },
    {
      "cell_type": "markdown",
      "source": [
        "# Leave One Out Cross Validation"
      ],
      "metadata": {
        "id": "SRd9-B2P-pD4"
      }
    },
    {
      "cell_type": "code",
      "source": [
        "%%R\n",
        "require(dplyr)\n",
        "\n",
        "# Estructura de ajuste y validación de los modelos\n",
        "comp_codes <- data %>% group_by(GRCODE) %>% tally()\n",
        "\n",
        "# Información de desempeño del modelo\n",
        "perf_model <- data.frame()\n",
        "\n",
        "for(i in 1:nrow(comp_codes)){\n",
        "    comp_code_i <- comp_codes[i, 1]\n",
        "\n",
        "    # Exclusión de la matriz de prueba\n",
        "    train_data <- triang_data %>% filter(GRCODE != comp_code_i)\n",
        "    test_data <- triang_data %>% filter(GRCODE == comp_code_i)\n",
        "\n",
        "    # Entrenamiento del modelo. Cálculo de factores de desarrollo\n",
        "    dev_fact <- c()\n",
        "\n",
        "    dev_fact_0 <- sum((train_data %>% filter(AccidentYear <= 1997-1))$t1)/sum((train_data %>% filter(AccidentYear <= 1997-1))$t0)\n",
        "    dev_fact_1 <- sum((train_data %>% filter(AccidentYear <= 1997-2))$t2)/sum((train_data %>% filter(AccidentYear <= 1997-2))$t1)\n",
        "    dev_fact_2 <- sum((train_data %>% filter(AccidentYear <= 1997-3))$t3)/sum((train_data %>% filter(AccidentYear <= 1997-3))$t2)\n",
        "    dev_fact_3 <- sum((train_data %>% filter(AccidentYear <= 1997-4))$t4)/sum((train_data %>% filter(AccidentYear <= 1997-4))$t3)\n",
        "    dev_fact_4 <- sum((train_data %>% filter(AccidentYear <= 1997-5))$t5)/sum((train_data %>% filter(AccidentYear <= 1997-5))$t4)\n",
        "    dev_fact_5 <- sum((train_data %>% filter(AccidentYear <= 1997-6))$t6)/sum((train_data %>% filter(AccidentYear <= 1997-6))$t5)\n",
        "    dev_fact_6 <- sum((train_data %>% filter(AccidentYear <= 1997-7))$t7)/sum((train_data %>% filter(AccidentYear <= 1997-7))$t6)\n",
        "    dev_fact_7 <- sum((train_data %>% filter(AccidentYear <= 1997-8))$t8)/sum((train_data %>% filter(AccidentYear <= 1997-8))$t7)\n",
        "    dev_fact_8 <- sum((train_data %>% filter(AccidentYear <= 1997-9))$t9)/sum((train_data %>% filter(AccidentYear <= 1997-9))$t8)\n",
        "\n",
        "    dev_fact <- c(dev_fact_0,\n",
        "                  dev_fact_1,\n",
        "                  dev_fact_2,\n",
        "                  dev_fact_3,\n",
        "                  dev_fact_4,\n",
        "                  dev_fact_5,\n",
        "                  dev_fact_6,\n",
        "                  dev_fact_7,\n",
        "                  dev_fact_8)\n",
        "\n",
        "    # Prueba del modelo\n",
        "    test <- test_data[3:ncol(test_data)]\n",
        "    real <- real_data %>% filter(GRCODE == comp_code_i)\n",
        "    real <- real[3:ncol(real)]\n",
        "\n",
        "    se <- c()\n",
        "    re <- c()\n",
        "\n",
        "    for(j in 2:10){\n",
        "        for(k in (ncol(test)-j+2):ncol(test)){\n",
        "            test[j, k] = (test[j, (k-1)] * dev_fact[k-1])\n",
        "\n",
        "            dif <- as.double((real[j, k] - test[j, k]))\n",
        "\n",
        "            se <- c(se, as.double((dif^2)))\n",
        "            re <- c(re, as.double((abs(dif)/real[j, k])*100))\n",
        "        }\n",
        "    }\n",
        "\n",
        "    MSE <- mean(se, na.rm = TRUE)\n",
        "    MAPE <- mean(re, na.rm = TRUE)\n",
        "\n",
        "    res_ml <- as.data.frame(c(comp_code_i, MSE, MAPE, 'CL_Det'))\n",
        "    colnames(res_ml) <- c('train_code', 'MSE', 'MAPE', 'model')\n",
        "\n",
        "    perf_model <- rbind(perf_model, res_ml)\n",
        "}\n",
        "\n",
        "print(perf_model)\n",
        "print(mean(perf_model$MAPE, na.rm=T))"
      ],
      "metadata": {
        "id": "_Pl05YO6wlOM",
        "colab": {
          "base_uri": "https://localhost:8080/"
        },
        "outputId": "44d9c835-37ba-43fd-c2bf-e6f6d35f19c8"
      },
      "execution_count": null,
      "outputs": [
        {
          "output_type": "stream",
          "name": "stdout",
          "text": [
            "   train_code          MSE     MAPE  model\n",
            "1         669 7249807065.9 68.68239 CL_Det\n",
            "2         683   86037614.1 23.86461 CL_Det\n",
            "3        7854   26013134.2 20.15882 CL_Det\n",
            "4       32514    4581602.8 34.77853 CL_Det\n",
            "5       33049  247496962.1 20.94825 CL_Det\n",
            "6       33111   70836499.9 30.70797 CL_Det\n",
            "7       36072     456718.7 22.62963 CL_Det\n",
            "8       36234    9450997.5 22.54183 CL_Det\n",
            "9       36277    2225359.2 13.25483 CL_Det\n",
            "10      36676   11526453.0 15.55941 CL_Det\n",
            "11      40568     407197.9 16.17317 CL_Det\n",
            "12      40975  114630940.7 79.42195 CL_Det\n",
            "13      41467  834281874.3 30.12851 CL_Det\n",
            "14      43656    3256000.4 14.80604 CL_Det\n",
            "15      43770     521891.3 40.00757 CL_Det\n",
            "16      44504    1183474.9 21.02839 CL_Det\n",
            "[1] 29.66824\n"
          ]
        }
      ]
    },
    {
      "cell_type": "markdown",
      "source": [
        "Para poder llevar a cabo la ejecución de Chain Ladder como modelo de regresión, calculamos la matriz de vectores como se indicó en el paper, a esta matriz, se le asignará un valor y, correspondiente a cada valor del triángulo de observaciones."
      ],
      "metadata": {
        "id": "SGeP9nsTQMXC"
      }
    },
    {
      "cell_type": "code",
      "source": [
        "import pandas as pd\n",
        "\n",
        "# Number of rows and columns\n",
        "n = 10\n",
        "\n",
        "# Create an empty dataframe with the desired columns\n",
        "columns = ['intercept'] + [f'alpha_{i}' for i in range(2, n+1)] + [f'beta_{i}' for i in range(2, n+1)]\n",
        "design_matrix = pd.DataFrame(0, index=[f'y_{i}{j-i+1}' for i in range(1, n+1) for j in range(i, n+1)], columns=columns)\n",
        "\n",
        "# Populate the dataframe\n",
        "for row in design_matrix.index:\n",
        "    i, j = int(row[2]), int(row[3:])\n",
        "    design_matrix.at[row, 'intercept'] = 1\n",
        "    if i > 1:\n",
        "        design_matrix.at[row, f'alpha_{i}'] = 1\n",
        "    if j > 1 and j != i:  # Add a condition to check if j is not equal to i\n",
        "        design_matrix.at[row, f'beta_{j}'] = 1\n",
        "\n",
        "print(design_matrix)\n",
        "design_matrix.to_csv('matriz_reg.csv', index=False)"
      ],
      "metadata": {
        "id": "wDkXYzayeW5V",
        "colab": {
          "base_uri": "https://localhost:8080/"
        },
        "outputId": "c48de634-415e-4e01-eca8-2b5fef77c3f3"
      },
      "execution_count": null,
      "outputs": [
        {
          "output_type": "stream",
          "name": "stdout",
          "text": [
            "       intercept  alpha_2  alpha_3  alpha_4  alpha_5  alpha_6  alpha_7  \\\n",
            "y_11           1        0        0        0        0        0        0   \n",
            "y_12           1        0        0        0        0        0        0   \n",
            "y_13           1        0        0        0        0        0        0   \n",
            "y_14           1        0        0        0        0        0        0   \n",
            "y_15           1        0        0        0        0        0        0   \n",
            "y_16           1        0        0        0        0        0        0   \n",
            "y_17           1        0        0        0        0        0        0   \n",
            "y_18           1        0        0        0        0        0        0   \n",
            "y_19           1        0        0        0        0        0        0   \n",
            "y_110          1        0        0        0        0        0        0   \n",
            "y_21           1        1        0        0        0        0        0   \n",
            "y_22           1        1        0        0        0        0        0   \n",
            "y_23           1        1        0        0        0        0        0   \n",
            "y_24           1        1        0        0        0        0        0   \n",
            "y_25           1        1        0        0        0        0        0   \n",
            "y_26           1        1        0        0        0        0        0   \n",
            "y_27           1        1        0        0        0        0        0   \n",
            "y_28           1        1        0        0        0        0        0   \n",
            "y_29           1        1        0        0        0        0        0   \n",
            "y_31           1        0        1        0        0        0        0   \n",
            "y_32           1        0        1        0        0        0        0   \n",
            "y_33           1        0        1        0        0        0        0   \n",
            "y_34           1        0        1        0        0        0        0   \n",
            "y_35           1        0        1        0        0        0        0   \n",
            "y_36           1        0        1        0        0        0        0   \n",
            "y_37           1        0        1        0        0        0        0   \n",
            "y_38           1        0        1        0        0        0        0   \n",
            "y_41           1        0        0        1        0        0        0   \n",
            "y_42           1        0        0        1        0        0        0   \n",
            "y_43           1        0        0        1        0        0        0   \n",
            "y_44           1        0        0        1        0        0        0   \n",
            "y_45           1        0        0        1        0        0        0   \n",
            "y_46           1        0        0        1        0        0        0   \n",
            "y_47           1        0        0        1        0        0        0   \n",
            "y_51           1        0        0        0        1        0        0   \n",
            "y_52           1        0        0        0        1        0        0   \n",
            "y_53           1        0        0        0        1        0        0   \n",
            "y_54           1        0        0        0        1        0        0   \n",
            "y_55           1        0        0        0        1        0        0   \n",
            "y_56           1        0        0        0        1        0        0   \n",
            "y_61           1        0        0        0        0        1        0   \n",
            "y_62           1        0        0        0        0        1        0   \n",
            "y_63           1        0        0        0        0        1        0   \n",
            "y_64           1        0        0        0        0        1        0   \n",
            "y_65           1        0        0        0        0        1        0   \n",
            "y_71           1        0        0        0        0        0        1   \n",
            "y_72           1        0        0        0        0        0        1   \n",
            "y_73           1        0        0        0        0        0        1   \n",
            "y_74           1        0        0        0        0        0        1   \n",
            "y_81           1        0        0        0        0        0        0   \n",
            "y_82           1        0        0        0        0        0        0   \n",
            "y_83           1        0        0        0        0        0        0   \n",
            "y_91           1        0        0        0        0        0        0   \n",
            "y_92           1        0        0        0        0        0        0   \n",
            "y_101          1        0        0        0        0        0        0   \n",
            "\n",
            "       alpha_8  alpha_9  alpha_10  beta_2  beta_3  beta_4  beta_5  beta_6  \\\n",
            "y_11         0        0         0       0       0       0       0       0   \n",
            "y_12         0        0         0       1       0       0       0       0   \n",
            "y_13         0        0         0       0       1       0       0       0   \n",
            "y_14         0        0         0       0       0       1       0       0   \n",
            "y_15         0        0         0       0       0       0       1       0   \n",
            "y_16         0        0         0       0       0       0       0       1   \n",
            "y_17         0        0         0       0       0       0       0       0   \n",
            "y_18         0        0         0       0       0       0       0       0   \n",
            "y_19         0        0         0       0       0       0       0       0   \n",
            "y_110        0        0         0       0       0       0       0       0   \n",
            "y_21         0        0         0       0       0       0       0       0   \n",
            "y_22         0        0         0       0       0       0       0       0   \n",
            "y_23         0        0         0       0       1       0       0       0   \n",
            "y_24         0        0         0       0       0       1       0       0   \n",
            "y_25         0        0         0       0       0       0       1       0   \n",
            "y_26         0        0         0       0       0       0       0       1   \n",
            "y_27         0        0         0       0       0       0       0       0   \n",
            "y_28         0        0         0       0       0       0       0       0   \n",
            "y_29         0        0         0       0       0       0       0       0   \n",
            "y_31         0        0         0       0       0       0       0       0   \n",
            "y_32         0        0         0       1       0       0       0       0   \n",
            "y_33         0        0         0       0       0       0       0       0   \n",
            "y_34         0        0         0       0       0       1       0       0   \n",
            "y_35         0        0         0       0       0       0       1       0   \n",
            "y_36         0        0         0       0       0       0       0       1   \n",
            "y_37         0        0         0       0       0       0       0       0   \n",
            "y_38         0        0         0       0       0       0       0       0   \n",
            "y_41         0        0         0       0       0       0       0       0   \n",
            "y_42         0        0         0       1       0       0       0       0   \n",
            "y_43         0        0         0       0       1       0       0       0   \n",
            "y_44         0        0         0       0       0       0       0       0   \n",
            "y_45         0        0         0       0       0       0       1       0   \n",
            "y_46         0        0         0       0       0       0       0       1   \n",
            "y_47         0        0         0       0       0       0       0       0   \n",
            "y_51         0        0         0       0       0       0       0       0   \n",
            "y_52         0        0         0       1       0       0       0       0   \n",
            "y_53         0        0         0       0       1       0       0       0   \n",
            "y_54         0        0         0       0       0       1       0       0   \n",
            "y_55         0        0         0       0       0       0       0       0   \n",
            "y_56         0        0         0       0       0       0       0       1   \n",
            "y_61         0        0         0       0       0       0       0       0   \n",
            "y_62         0        0         0       1       0       0       0       0   \n",
            "y_63         0        0         0       0       1       0       0       0   \n",
            "y_64         0        0         0       0       0       1       0       0   \n",
            "y_65         0        0         0       0       0       0       1       0   \n",
            "y_71         0        0         0       0       0       0       0       0   \n",
            "y_72         0        0         0       1       0       0       0       0   \n",
            "y_73         0        0         0       0       1       0       0       0   \n",
            "y_74         0        0         0       0       0       1       0       0   \n",
            "y_81         1        0         0       0       0       0       0       0   \n",
            "y_82         1        0         0       1       0       0       0       0   \n",
            "y_83         1        0         0       0       1       0       0       0   \n",
            "y_91         0        1         0       0       0       0       0       0   \n",
            "y_92         0        1         0       1       0       0       0       0   \n",
            "y_101        0        0         0       0       0       0       0       0   \n",
            "\n",
            "       beta_7  beta_8  beta_9  beta_10  \n",
            "y_11        0       0       0        0  \n",
            "y_12        0       0       0        0  \n",
            "y_13        0       0       0        0  \n",
            "y_14        0       0       0        0  \n",
            "y_15        0       0       0        0  \n",
            "y_16        0       0       0        0  \n",
            "y_17        1       0       0        0  \n",
            "y_18        0       1       0        0  \n",
            "y_19        0       0       1        0  \n",
            "y_110       0       0       0        1  \n",
            "y_21        0       0       0        0  \n",
            "y_22        0       0       0        0  \n",
            "y_23        0       0       0        0  \n",
            "y_24        0       0       0        0  \n",
            "y_25        0       0       0        0  \n",
            "y_26        0       0       0        0  \n",
            "y_27        1       0       0        0  \n",
            "y_28        0       1       0        0  \n",
            "y_29        0       0       1        0  \n",
            "y_31        0       0       0        0  \n",
            "y_32        0       0       0        0  \n",
            "y_33        0       0       0        0  \n",
            "y_34        0       0       0        0  \n",
            "y_35        0       0       0        0  \n",
            "y_36        0       0       0        0  \n",
            "y_37        1       0       0        0  \n",
            "y_38        0       1       0        0  \n",
            "y_41        0       0       0        0  \n",
            "y_42        0       0       0        0  \n",
            "y_43        0       0       0        0  \n",
            "y_44        0       0       0        0  \n",
            "y_45        0       0       0        0  \n",
            "y_46        0       0       0        0  \n",
            "y_47        1       0       0        0  \n",
            "y_51        0       0       0        0  \n",
            "y_52        0       0       0        0  \n",
            "y_53        0       0       0        0  \n",
            "y_54        0       0       0        0  \n",
            "y_55        0       0       0        0  \n",
            "y_56        0       0       0        0  \n",
            "y_61        0       0       0        0  \n",
            "y_62        0       0       0        0  \n",
            "y_63        0       0       0        0  \n",
            "y_64        0       0       0        0  \n",
            "y_65        0       0       0        0  \n",
            "y_71        0       0       0        0  \n",
            "y_72        0       0       0        0  \n",
            "y_73        0       0       0        0  \n",
            "y_74        0       0       0        0  \n",
            "y_81        0       0       0        0  \n",
            "y_82        0       0       0        0  \n",
            "y_83        0       0       0        0  \n",
            "y_91        0       0       0        0  \n",
            "y_92        0       0       0        0  \n",
            "y_101       0       0       0        0  \n"
          ]
        }
      ]
    },
    {
      "cell_type": "markdown",
      "source": [
        "Una vez tenemos la matriz, se asignan los respectivos valores de datos y se realiza la regresión."
      ],
      "metadata": {
        "id": "VOYgQc_3c57Q"
      }
    },
    {
      "cell_type": "code",
      "source": [
        "%%R\n",
        "require(dplyr)\n",
        "design_matrix <- read.csv('/content/matriz_reg.csv')\n",
        "\n",
        "# Estructura de ajuste y validación de los modelos\n",
        "comp_codes <- data %>% group_by(GRCODE) %>% tally()\n",
        "\n",
        "# Información de desempeño del modelo\n",
        "matr_reg <- data.frame()\n",
        "matr_ent <- data.frame()\n",
        "\n",
        "#for(i in 1:nrow(comp_codes)){\n",
        "    comp_code_i <- comp_codes[1, 1]\n",
        "\n",
        "    # Entidad a la que se agregará la matrix\n",
        "    y <- as.vector(triang_data %>% filter(GRCODE == comp_code_i) %>% select(-c(GRCODE, AccidentYear)))\n",
        "\n",
        "    # Asignar los y a la matriz\n",
        "    #matr_ent <- cbind(design_matrix,y) %>% mutate(GRCODE = comp_code_i)\n",
        "\n",
        "    # Volver todas las matrices una\n",
        "    #matr_reg <- rbind(matr_reg,matr_ent)\n",
        "#}\n",
        "\n",
        "print(y)"
      ],
      "metadata": {
        "colab": {
          "base_uri": "https://localhost:8080/"
        },
        "id": "Rf8G4WbOXpZp",
        "outputId": "7baa7fb2-bdf4-406e-99b1-5e04912f476a"
      },
      "execution_count": null,
      "outputs": [
        {
          "output_type": "stream",
          "name": "stdout",
          "text": [
            "Adding missing grouping variables: `GRCODE`\n",
            "$GRCODE\n",
            " [1] 669 669 669 669 669 669 669 669 669 669\n",
            "\n",
            "$t0\n",
            " [1] 2716 3835 4838 4456 5970 9398 6181 7828 8854 7818\n",
            "\n",
            "$t1\n",
            " [1] 24576 25158 27965 34241 36080 46210 39204 42356 51400     0\n",
            "\n",
            "$t2\n",
            " [1] 43990 45145 50873 64737 68268 77045 70006 70729     0     0\n",
            "\n",
            "$t3\n",
            " [1] 59722 60331 66400 79390 81783 86298 82385     0     0     0\n",
            "\n",
            "$t4\n",
            " [1] 71019 67457 71875 84465 86076 91796     0     0     0     0\n",
            "\n",
            "$t5\n",
            " [1] 76354 70821 74755 87375 87167     0     0     0     0     0\n",
            "\n",
            "$t6\n",
            " [1] 76792 71769 75176 89119     0     0     0     0     0     0\n",
            "\n",
            "$t7\n",
            " [1] 77207 72085 75250     0     0     0     0     0     0     0\n",
            "\n",
            "$t8\n",
            " [1] 77588 72035     0     0     0     0     0     0     0     0\n",
            "\n",
            "$t9\n",
            " [1] 77656     0     0     0     0     0     0     0     0     0\n",
            "\n",
            "attr(,\"groups\")\n",
            "# A tibble: 1 × 2\n",
            "  GRCODE       .rows\n",
            "   <int> <list<int>>\n",
            "1    669        [10]\n"
          ]
        }
      ]
    }
  ]
}