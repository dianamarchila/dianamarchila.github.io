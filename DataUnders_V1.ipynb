{
  "nbformat": 4,
  "nbformat_minor": 0,
  "metadata": {
    "colab": {
      "provenance": [],
      "mount_file_id": "1t0yO1jCGclco8EYBqXmYimLkDs87OmpM",
      "authorship_tag": "ABX9TyOklDHTCAXbShLFY9hKWz9d",
      "include_colab_link": true
    },
    "kernelspec": {
      "name": "python3",
      "display_name": "Python 3"
    },
    "language_info": {
      "name": "python"
    }
  },
  "cells": [
    {
      "cell_type": "markdown",
      "metadata": {
        "id": "view-in-github",
        "colab_type": "text"
      },
      "source": [
        "<a href=\"https://colab.research.google.com/github/dianamarchila/dianamarchila.github.io/blob/main/DataUnders_V1.ipynb\" target=\"_parent\"><img src=\"https://colab.research.google.com/assets/colab-badge.svg\" alt=\"Open In Colab\"/></a>"
      ]
    },
    {
      "cell_type": "markdown",
      "source": [
        "# **Proyecto predicción de la reserva de dinero para reclamaciones en empresas de seguros**\n",
        "\n",
        "**Data Understanding - V1**\n",
        "\n",
        "Realizado por: Diana Archila Cordero\n",
        "\n",
        "---\n",
        "\n"
      ],
      "metadata": {
        "id": "c1pD0eqWVttd"
      }
    },
    {
      "cell_type": "code",
      "execution_count": null,
      "metadata": {
        "id": "vOIX0MgaK3kb",
        "colab": {
          "base_uri": "https://localhost:8080/"
        },
        "outputId": "767b841d-f2af-4f8f-f0db-8e2ff9195085"
      },
      "outputs": [
        {
          "output_type": "stream",
          "name": "stdout",
          "text": [
            "Requirement already satisfied: rpy2==3.5.1 in /usr/local/lib/python3.10/dist-packages (3.5.1)\n",
            "Requirement already satisfied: cffi>=1.10.0 in /usr/local/lib/python3.10/dist-packages (from rpy2==3.5.1) (1.16.0)\n",
            "Requirement already satisfied: jinja2 in /usr/local/lib/python3.10/dist-packages (from rpy2==3.5.1) (3.1.2)\n",
            "Requirement already satisfied: pytz in /usr/local/lib/python3.10/dist-packages (from rpy2==3.5.1) (2023.3.post1)\n",
            "Requirement already satisfied: tzlocal in /usr/local/lib/python3.10/dist-packages (from rpy2==3.5.1) (5.1)\n",
            "Requirement already satisfied: pycparser in /usr/local/lib/python3.10/dist-packages (from cffi>=1.10.0->rpy2==3.5.1) (2.21)\n",
            "Requirement already satisfied: MarkupSafe>=2.0 in /usr/local/lib/python3.10/dist-packages (from jinja2->rpy2==3.5.1) (2.1.3)\n"
          ]
        }
      ],
      "source": [
        "# Configuración para ejecutar código de R\n",
        "!pip install rpy2==3.5.1\n",
        "%reload_ext rpy2.ipython"
      ]
    },
    {
      "cell_type": "markdown",
      "source": [
        "# **Describe data**"
      ],
      "metadata": {
        "id": "3nmq9ulXP9fR"
      }
    },
    {
      "cell_type": "markdown",
      "source": [
        "**Tamaño del set de datos**\n",
        "\n",
        "El conjunto de datos tiene 3.400 observaciones y 13 variables, relacionadas con las reclamaciones de seguros por negligencia médica reportadas entre los años 1988 y 1997 en Estados Unidos.\n",
        "\n",
        "La cantidad de observaciones corresponden al número de empresas, multiplicado por 100 resgistros de información que se tiene para cada una, los cuales corresponden a la información de reclamaciones durante 10 años para los siniestros ocurridos de 1988 a 1997. Es decir que se tienen para este set de datos 34 empresas aseguradoras.\n",
        "\n",
        "**Variables que contiene**\n",
        "\n",
        "A continuación se da la descripción de cada una de las variables del set de datos:\n",
        "\n",
        "*   **GRCODE NAIC** Código que identifica la compañía aseguradora\n",
        "*   **GRNAME NAIC** Nombre de la aseguradora\n",
        "*   **AccidentYear** Año de ocurrencia del accidente, para el caso de estudio, estos datos están entre 1988 y 1997.\n",
        "*   **DevelopmentYear** Año en que se da el cobro del seguro, puede ir desde el año del accidente hasta 10 años más.\n",
        "*   **DevelopmentLag** Indicador del año de desarrollo a partir del año del accidente.\n",
        "*   **IncurLoss_** Pérdidas reportadas en las que se ha incurrido y gastos ocasionados a final del año de desarrollo.\n",
        "*   **CumPaidLoss_** Pérdidas pagadas acumuladas y gastos asignados al final de año.\n",
        "*   **BulkLoss_** Información sobre pérdidas netas y gastos de defensa y contención de costos reportados al final del año, relacionados con siniestros ocurridos pero no comunicados (IBNR - incurred but not reported)\n",
        "*   **PostedReserve97_** Reservas reportadas en el año 1997, tomadas de Anexo de Suscripción e Inversiones – Parte 2A, incluidas las pérdidas netas no pagadas y los gastos de ajuste de pérdidas no pagados\n",
        "*   **EarnedPremDIR_** Primas ganadas directas y asumidas en el año de desarrollo\n",
        "*   **EarnedPremCeded_** Primas ganadas cedidas en el año de desarrollo\n",
        "*   **EarnedPremNet_** Primas ganadas netas en el año de desarrollo\n",
        "*   **Single**  Variable binaria que indica si es una empresa aseguradora individual (1) o pertenece a un asegurador grupal (0).\n"
      ],
      "metadata": {
        "id": "_zPKBB8aX6Dj"
      }
    },
    {
      "cell_type": "code",
      "source": [
        "%%R # Comando que indica que la celda contiene código de R\n",
        "library(dplyr)\n",
        "\n",
        "# Cargue del dataset\n",
        "data <- read.csv(\"/content/drive/MyDrive/ML /medmal_pos.csv\")\n",
        "\n",
        "print(nrow(data)) # 3.400 observaciones\n",
        "print(ncol(data)) # 13 variables\n",
        "\n",
        "head(data, 10)"
      ],
      "metadata": {
        "colab": {
          "base_uri": "https://localhost:8080/"
        },
        "id": "b0SNmZ_bU5wl",
        "outputId": "ce3a9912-fe97-4031-8c10-829f4c784595"
      },
      "execution_count": null,
      "outputs": [
        {
          "output_type": "stream",
          "name": "stdout",
          "text": [
            "[1] 3400\n",
            "[1] 13\n",
            "   GRCODE             GRNAME AccidentYear DevelopmentYear DevelopmentLag\n",
            "1     669 Scpie Indemnity Co         1988            1988              1\n",
            "2     669 Scpie Indemnity Co         1988            1989              2\n",
            "3     669 Scpie Indemnity Co         1988            1990              3\n",
            "4     669 Scpie Indemnity Co         1988            1991              4\n",
            "5     669 Scpie Indemnity Co         1988            1992              5\n",
            "6     669 Scpie Indemnity Co         1988            1993              6\n",
            "7     669 Scpie Indemnity Co         1988            1994              7\n",
            "8     669 Scpie Indemnity Co         1988            1995              8\n",
            "9     669 Scpie Indemnity Co         1988            1996              9\n",
            "10    669 Scpie Indemnity Co         1988            1997             10\n",
            "   IncurLoss_F2 CumPaidLoss_F2 BulkLoss_F2 EarnedPremDIR_F2 EarnedPremCeded_F2\n",
            "1        121905           2716       97966           129104              -6214\n",
            "2        112211          24576       64117           129104              -6214\n",
            "3        103226          43990       39008           129104              -6214\n",
            "4         99599          59722       20736           129104              -6214\n",
            "5         96006          71019       13599           129104              -6214\n",
            "6         90487          76354       10577           129104              -6214\n",
            "7         82640          76792        3762           129104              -6214\n",
            "8         80406          77207        2105           129104              -6214\n",
            "9         78920          77588         819           129104              -6214\n",
            "10        78511          77656         407           129104              -6214\n",
            "   EarnedPremNet_F2 Single PostedReserve97_F2\n",
            "1            135318      0             344558\n",
            "2            135318      0             344558\n",
            "3            135318      0             344558\n",
            "4            135318      0             344558\n",
            "5            135318      0             344558\n",
            "6            135318      0             344558\n",
            "7            135318      0             344558\n",
            "8            135318      0             344558\n",
            "9            135318      0             344558\n",
            "10           135318      0             344558\n"
          ]
        }
      ]
    },
    {
      "cell_type": "markdown",
      "source": [
        "**Completitud de la información**\n",
        "\n",
        "A partir de la estructura de los datos, se puede observar que no existen datos nulos en el dataset.\n",
        "\n",
        "**Tipos de variable**\n",
        "\n",
        "Según el cargue de la información, todas las variables son numéricas, a excepción de *GRNAME*, que es el nombre de la aseguradora. Sin embargo, a partir de la definición de las variables, las únicas que se tomarán como variables numéricas son aquellas que relacionan los gastos y costos incurridos por la reclamación de seguros; es decir: IncurLoss_F2, CumPaidLoss_F2, BulkLoss_F2, EarnedPremDIR_F2, EarnedPremCeded_F2 y EarnedPremNet_F2.\n",
        "\n",
        "Las variables como GRCODE, AccidentYear, DevelopmentYear, DevelopmentLag y Single, se tomarán como variables discretas que permitirán el ordenamiento de los datos y la construcción de las matrices de pérdidas para cada empresa."
      ],
      "metadata": {
        "id": "tUm3xcgKfP2t"
      }
    },
    {
      "cell_type": "code",
      "source": [
        "%%R\n",
        "# Estructura del set de datos\n",
        "str(data)\n",
        "\n",
        "summary(data)"
      ],
      "metadata": {
        "colab": {
          "base_uri": "https://localhost:8080/"
        },
        "id": "WZlvVSUjewhA",
        "outputId": "e2d6ed0f-f5f5-4a21-ee97-821e93ba8e26"
      },
      "execution_count": null,
      "outputs": [
        {
          "output_type": "stream",
          "name": "stdout",
          "text": [
            "'data.frame':\t3400 obs. of  13 variables:\n",
            " $ GRCODE            : int  669 669 669 669 669 669 669 669 669 669 ...\n",
            " $ GRNAME            : chr  \"Scpie Indemnity Co\" \"Scpie Indemnity Co\" \"Scpie Indemnity Co\" \"Scpie Indemnity Co\" ...\n",
            " $ AccidentYear      : int  1988 1988 1988 1988 1988 1988 1988 1988 1988 1988 ...\n",
            " $ DevelopmentYear   : int  1988 1989 1990 1991 1992 1993 1994 1995 1996 1997 ...\n",
            " $ DevelopmentLag    : int  1 2 3 4 5 6 7 8 9 10 ...\n",
            " $ IncurLoss_F2      : int  121905 112211 103226 99599 96006 90487 82640 80406 78920 78511 ...\n",
            " $ CumPaidLoss_F2    : int  2716 24576 43990 59722 71019 76354 76792 77207 77588 77656 ...\n",
            " $ BulkLoss_F2       : int  97966 64117 39008 20736 13599 10577 3762 2105 819 407 ...\n",
            " $ EarnedPremDIR_F2  : int  129104 129104 129104 129104 129104 129104 129104 129104 129104 129104 ...\n",
            " $ EarnedPremCeded_F2: int  -6214 -6214 -6214 -6214 -6214 -6214 -6214 -6214 -6214 -6214 ...\n",
            " $ EarnedPremNet_F2  : int  135318 135318 135318 135318 135318 135318 135318 135318 135318 135318 ...\n",
            " $ Single            : int  0 0 0 0 0 0 0 0 0 0 ...\n",
            " $ PostedReserve97_F2: int  344558 344558 344558 344558 344558 344558 344558 344558 344558 344558 ...\n",
            "     GRCODE         GRNAME           AccidentYear  DevelopmentYear\n",
            " Min.   :  669   Length:3400        Min.   :1988   Min.   :1988   \n",
            " 1st Qu.:10341   Class :character   1st Qu.:1990   1st Qu.:1994   \n",
            " Median :19764   Mode  :character   Median :1992   Median :1997   \n",
            " Mean   :22810                      Mean   :1992   Mean   :1997   \n",
            " 3rd Qu.:36234                      3rd Qu.:1995   3rd Qu.:2000   \n",
            " Max.   :44504                      Max.   :1997   Max.   :2006   \n",
            " DevelopmentLag  IncurLoss_F2    CumPaidLoss_F2    BulkLoss_F2      \n",
            " Min.   : 1.0   Min.   :   -17   Min.   : -1190   Min.   :-32101.0  \n",
            " 1st Qu.: 3.0   1st Qu.:     0   1st Qu.:     0   1st Qu.:     0.0  \n",
            " Median : 5.5   Median :   645   Median :   187   Median :     0.0  \n",
            " Mean   : 5.5   Mean   : 11609   Mean   :  6706   Mean   :  1095.8  \n",
            " 3rd Qu.: 8.0   3rd Qu.:  9050   3rd Qu.:  4386   3rd Qu.:   107.2  \n",
            " Max.   :10.0   Max.   :179425   Max.   :113189   Max.   :104402.0  \n",
            " EarnedPremDIR_F2 EarnedPremCeded_F2 EarnedPremNet_F2     Single      \n",
            " Min.   :  -781   Min.   :-6214.0    Min.   :  -728   Min.   :0.0000  \n",
            " 1st Qu.:     0   1st Qu.:    0.0    1st Qu.:     0   1st Qu.:1.0000  \n",
            " Median :  1500   Median :  106.5    Median :  1302   Median :1.0000  \n",
            " Mean   : 14112   Mean   : 1803.5    Mean   : 12308   Mean   :0.8529  \n",
            " 3rd Qu.: 18094   3rd Qu.: 1473.5    3rd Qu.: 13490   3rd Qu.:1.0000  \n",
            " Max.   :131948   Max.   :25553.0    Max.   :135318   Max.   :1.0000  \n",
            " PostedReserve97_F2\n",
            " Min.   :     0    \n",
            " 1st Qu.:   629    \n",
            " Median :  5875    \n",
            " Mean   : 57066    \n",
            " 3rd Qu.: 46762    \n",
            " Max.   :702246    \n"
          ]
        }
      ]
    },
    {
      "cell_type": "markdown",
      "source": [
        "# **Explore Data**"
      ],
      "metadata": {
        "id": "crkts7QTQbLa"
      }
    },
    {
      "cell_type": "markdown",
      "source": [
        "Teniendo en cuenta lo observado en la descripción de los datos, es importante ahora revisar las distribuciones y medidas de interés de ciertas variables, como lo serán las 6 variables numéricas mencionadas en la sección anterior, ya que son estas las que permitirán la construcción de los triángulos de Run-off. Asimismo, es importante entender las categorías de aquellas variables que se utilizarán para la clasificación de los datos, como lo son los códigos y nombres de la empresa, los años de desarrollo de los siniestros, años de ocurrencia de los mismos y la clasificación del tipo de empresa."
      ],
      "metadata": {
        "id": "KcP8fFoPRnEv"
      }
    },
    {
      "cell_type": "markdown",
      "source": [
        "## Análisis univariado\n",
        "\n",
        "Por medio de un análisis descriptivo, se busca entender la distribución y de los datos."
      ],
      "metadata": {
        "id": "g3-99Sm0Sgn7"
      }
    },
    {
      "cell_type": "markdown",
      "source": [
        "### Variables categóricas"
      ],
      "metadata": {
        "id": "VWq_bbbTUwl4"
      }
    },
    {
      "cell_type": "markdown",
      "source": [
        "**Identificador de la empresa**\n",
        "\n",
        "Tanto el nombre como el código que tiene relacionado cada empresa, es un identificador único de la misma."
      ],
      "metadata": {
        "id": "zLc34Um4U_Wt"
      }
    },
    {
      "cell_type": "code",
      "source": [
        "%%R\n",
        "require(dplyr)\n",
        "\n",
        "n_companies <- data %>% group_by(GRNAME) %>% tally()\n",
        "\n",
        "n_companies2 <- data %>% group_by(GRCODE) %>% tally()\n",
        "\n",
        "print(n_companies)\n",
        "print(n_companies2)"
      ],
      "metadata": {
        "colab": {
          "base_uri": "https://localhost:8080/"
        },
        "id": "CfF248A9QdjQ",
        "outputId": "b55214de-dea3-45de-83c7-884730b48b03"
      },
      "execution_count": null,
      "outputs": [
        {
          "output_type": "stream",
          "name": "stdout",
          "text": [
            "# A tibble: 34 × 2\n",
            "   GRNAME                                 n\n",
            "   <chr>                              <int>\n",
            " 1 American Assoc Of Othodontists RRG   100\n",
            " 2 California Healthcare Ins Co Inc     100\n",
            " 3 Campmed Cas & Ind Co Inc MD          100\n",
            " 4 Clinic Mut Ins Co RRG                100\n",
            " 5 Community Blood Cntr Exch RRG        100\n",
            " 6 Controlled Risk Ins Co Of VT Inc     100\n",
            " 7 Dentists Ins Co                      100\n",
            " 8 Eastern Dentists Ins Co RRG          100\n",
            " 9 Franklin Cas Ins Co RRG              100\n",
            "10 Great Amer Grp                       100\n",
            "# ℹ 24 more rows\n",
            "# ℹ Use `print(n = ...)` to see more rows\n",
            "# A tibble: 34 × 2\n",
            "   GRCODE     n\n",
            "    <int> <int>\n",
            " 1    669   100\n",
            " 2    683   100\n",
            " 3    841   100\n",
            " 4   1406   100\n",
            " 5   7854   100\n",
            " 6  10019   100\n",
            " 7  10115   100\n",
            " 8  10232   100\n",
            " 9  10341   100\n",
            "10  10393   100\n",
            "# ℹ 24 more rows\n",
            "# ℹ Use `print(n = ...)` to see more rows\n"
          ]
        }
      ]
    },
    {
      "cell_type": "markdown",
      "source": [
        "**Tipo de compañía aseguradora**\n",
        "\n",
        "Se observa que la mayoría de empresas aseguradoras son de tipo individual (85%) y tan solo 5 empresas de las 34 del estudio son de tipo grupal."
      ],
      "metadata": {
        "id": "wDtA_IQIbGdm"
      }
    },
    {
      "cell_type": "code",
      "source": [
        "%%R\n",
        "require(dplyr)\n",
        "\n",
        "data1 <- data\n",
        "\n",
        "data1 <- data1 %>% mutate(Single = case_when(Single == 1 ~ 'Individual', TRUE ~ 'Grupal'))\n",
        "\n",
        "tip_comp <- data1 %>% group_by(GRNAME, Single) %>% tally() %>% group_by(Single) %>% tally()\n",
        "\n",
        "prop <- as.vector(tip_comp$n)\n",
        "labels <- as.vector(tip_comp$Single)\n",
        "\n",
        "pie(prop, labels = labels)\n",
        "\n",
        "print(tip_comp)"
      ],
      "metadata": {
        "colab": {
          "base_uri": "https://localhost:8080/",
          "height": 584
        },
        "id": "2kg6JYWMbMpF",
        "outputId": "b0b12f1f-c032-47c3-bb75-eeaf61f46aab"
      },
      "execution_count": null,
      "outputs": [
        {
          "output_type": "stream",
          "name": "stdout",
          "text": [
            "# A tibble: 2 × 2\n",
            "  Single         n\n",
            "  <chr>      <int>\n",
            "1 Grupal         5\n",
            "2 Individual    29\n"
          ]
        },
        {
          "output_type": "display_data",
          "data": {
            "image/png": "[encoded data removed]"
          },
          "metadata": {}
        }
      ]
    },
    {
      "cell_type": "markdown",
      "source": [
        "**Años de ocurrencia y desarrollo de los siniestros**\n",
        "\n",
        "No existen datos anómalos en estas dos variables, para el caso de año de accidente, se tiene que todos los datos se repiten igual cantidad de veces, lo que corresponde a que para todas las empresas se tomaron los mismos años de ocurrencia de los siniestros.\n",
        "\n",
        "Por otra parte, en el caso de los años de desarrollo se observa que el año que más se repite es 1997, esto debido a que para todos los años de ocurrencia de sinestros, este será un año de desarrollo, cuando el siniestro ocurrió en 1988, 1997 será el último año de desarrollo y cuando el siniestro ocurrió en 1997, este será el primer año de observación de la evolución de reclamaciones.\n",
        "\n",
        "Para los demás datos, la razón por la que varían de esta forma la frecuencia de observación, es la misma mencionada anteriormente, en el caso de 1988 este año de desarrollo solo se observará para los siniestros ocurridos ese mismo año, similar a lo que ocurre con el año de desarrollo 2006 que solo se observa para los siniestros ocurridos en 1997. La mejor forma de identificar esta relación año de ocurrencia - año de desarrollo es con la variable DevelopmetLag, que identifica el año de desarrollo como el año de observación a partir del año del siniestro."
      ],
      "metadata": {
        "id": "kkuPTVn4VN7-"
      }
    },
    {
      "cell_type": "code",
      "source": [
        "%%R\n",
        "require(dplyr)\n",
        "require(ggplot)\n",
        "\n",
        "accid_year <- data1 %>% group_by(AccidentYear) %>% tally()\n",
        "\n",
        "dev_year <- data %>% group_by(DevelopmentYear) %>% tally()\n",
        "\n",
        "plot(x=accid_year$AccidentYear, y = accid_year$n, main = \"Distribución año de ocurrencia del siniestro\",\n",
        "     xlab = \"Año de ocurrencia\", ylab = \"Frecuencia de observación en el dataset\")\n",
        "\n",
        "plot(x=dev_year$DevelopmentYear, y = dev_year$n, main = \"Distribución año de desarrollo\",\n",
        "     xlab = \"Año de desarrollo\", ylab = \"Frecuencia de observación en el dataset\")\n"
      ],
      "metadata": {
        "colab": {
          "base_uri": "https://localhost:8080/",
          "height": 1000
        },
        "id": "9qa72-xOVLL7",
        "outputId": "913020ea-2f27-4670-8e05-6ad61ceb14e0"
      },
      "execution_count": null,
      "outputs": [
        {
          "output_type": "stream",
          "name": "stderr",
          "text": [
            "WARNING:rpy2.rinterface_lib.callbacks:R[write to console]: Loading required package: ggplot\n",
            "\n"
          ]
        },
        {
          "output_type": "display_data",
          "data": {
            "image/png": "[encoded data removed]"
          },
          "metadata": {}
        },
        {
          "output_type": "display_data",
          "data": {
            "image/png": "[encoded data removed]"
          },
          "metadata": {}
        }
      ]
    },
    {
      "cell_type": "markdown",
      "source": [
        "### Variables numéricas"
      ],
      "metadata": {
        "id": "p3bVq-4Vf3j5"
      }
    },
    {
      "cell_type": "code",
      "source": [
        "%%R\n",
        "require(dplyr)\n",
        "\n",
        "#colnames(data1)\n",
        "\n",
        "boxplot(data1[, c('IncurLoss_F2', 'CumPaidLoss_F2', 'BulkLoss_F2', 'EarnedPremDIR_F2', 'EarnedPremCeded_F2', 'EarnedPremNet_F2')],\n",
        "        names= c('IncurLoss_F2', 'CumPaidLoss_F2', 'BulkLoss_F2',  'EarnedPremDIR_F2', 'EarnedPremCeded_F2', 'EarnedPremNet_F2'))\n",
        "\n",
        "\n",
        "boxplot(data1[, c('BulkLoss_F2')])"
      ],
      "metadata": {
        "id": "MNrqV6NRgAOP",
        "colab": {
          "base_uri": "https://localhost:8080/",
          "height": 977
        },
        "outputId": "925f8d20-b63a-4fca-8e2e-91e3e7b50a42"
      },
      "execution_count": null,
      "outputs": [
        {
          "output_type": "display_data",
          "data": {
            "image/png": "[encoded data removed]"
          },
          "metadata": {}
        },
        {
          "output_type": "display_data",
          "data": {
            "image/png": "[encoded data removed]"
          },
          "metadata": {}
        }
      ]
    },
    {
      "cell_type": "markdown",
      "source": [
        "# **Verify Data Quality**"
      ],
      "metadata": {
        "id": "M8hzf3OTQQMZ"
      }
    },
    {
      "cell_type": "markdown",
      "source": [
        "**Unidad de medida**\n",
        "\n",
        "A partir del entendimiento inicial del negocio y del contexto realizado, se tiene que la unidad de estudio será la evolución de los costos de reclamaciones para cada empresa de seguros. Dado esto, la unidad de medida será una matriz de 10x10 para cada empresa aseguradora, donde las filas serán los **años de ocurrencia de los siniestros (1988-1997)** y las columnas serán los **cobros ocasionados año a año por los siniestros ocurridos en el año de referencia**.\n",
        "\n",
        "Para esto, se construirán las matrices para cada una de las 6 variables de interés."
      ],
      "metadata": {
        "id": "TfdkRclEaBWp"
      }
    },
    {
      "cell_type": "code",
      "source": [
        "%%R\n",
        "require(dplyr)\n",
        "\n",
        "# Construcción de matrices de cada empresa, Variable: IncurLoss_F2\n",
        "matrix_incloss <- data %>%\n",
        "            mutate(t0 = case_when(DevelopmentLag == 1 ~ IncurLoss_F2),\n",
        "                   t1 = case_when(DevelopmentLag == 2 ~ IncurLoss_F2),\n",
        "                   t2 = case_when(DevelopmentLag == 3 ~ IncurLoss_F2),\n",
        "                   t3 = case_when(DevelopmentLag == 4 ~ IncurLoss_F2),\n",
        "                   t4 = case_when(DevelopmentLag == 5 ~ IncurLoss_F2),\n",
        "                   t5 = case_when(DevelopmentLag == 6 ~ IncurLoss_F2),\n",
        "                   t6 = case_when(DevelopmentLag == 7 ~ IncurLoss_F2),\n",
        "                   t7 = case_when(DevelopmentLag == 8 ~ IncurLoss_F2),\n",
        "                   t8 = case_when(DevelopmentLag == 9 ~ IncurLoss_F2),\n",
        "                   t9 = case_when(DevelopmentLag == 10 ~ IncurLoss_F2)\n",
        "                   )\n",
        "matrix1 <- matrix_incloss %>% group_by(GRCODE, AccidentYear) %>%\n",
        "          summarise(t0 = sum(t0, na.rm = T),\n",
        "                    t1 = sum(t1, na.rm = T),\n",
        "                    t2 = sum(t2, na.rm = T),\n",
        "                    t3 = sum(t3, na.rm = T),\n",
        "                    t4 = sum(t4, na.rm = T),\n",
        "                    t5 = sum(t5, na.rm = T),\n",
        "                    t6 = sum(t6, na.rm = T),\n",
        "                    t7 = sum(t7, na.rm = T),\n",
        "                    t8 = sum(t8, na.rm = T),\n",
        "                    t9 = sum(t9, na.rm = T))\n",
        "\n",
        "print(matrix1, n=10)\n",
        "\n",
        "# Construcción de matrices de cada empresa, Variable: CumPaidLoss_F2\n",
        "matrix_cumloss <- data %>%\n",
        "            mutate(t0 = case_when(DevelopmentLag == 1 ~ CumPaidLoss_F2),\n",
        "                   t1 = case_when(DevelopmentLag == 2 ~ CumPaidLoss_F2),\n",
        "                   t2 = case_when(DevelopmentLag == 3 ~ CumPaidLoss_F2),\n",
        "                   t3 = case_when(DevelopmentLag == 4 ~ CumPaidLoss_F2),\n",
        "                   t4 = case_when(DevelopmentLag == 5 ~ CumPaidLoss_F2),\n",
        "                   t5 = case_when(DevelopmentLag == 6 ~ CumPaidLoss_F2),\n",
        "                   t6 = case_when(DevelopmentLag == 7 ~ CumPaidLoss_F2),\n",
        "                   t7 = case_when(DevelopmentLag == 8 ~ CumPaidLoss_F2),\n",
        "                   t8 = case_when(DevelopmentLag == 9 ~ CumPaidLoss_F2),\n",
        "                   t9 = case_when(DevelopmentLag == 10 ~ CumPaidLoss_F2)\n",
        "                   )\n",
        "matrix2 <- matrix_cumloss %>% group_by(GRCODE, AccidentYear) %>%\n",
        "          summarise(t0 = sum(t0, na.rm = T),\n",
        "                    t1 = sum(t1, na.rm = T),\n",
        "                    t2 = sum(t2, na.rm = T),\n",
        "                    t3 = sum(t3, na.rm = T),\n",
        "                    t4 = sum(t4, na.rm = T),\n",
        "                    t5 = sum(t5, na.rm = T),\n",
        "                    t6 = sum(t6, na.rm = T),\n",
        "                    t7 = sum(t7, na.rm = T),\n",
        "                    t8 = sum(t8, na.rm = T),\n",
        "                    t9 = sum(t9, na.rm = T))\n",
        "\n",
        "print(matrix2, n=10)\n",
        "\n",
        "# Construcción de matrices de cada empresa, Variable: BulkLoss_F2\n",
        "matrix_bulkloss <- data %>%\n",
        "            mutate(t0 = case_when(DevelopmentLag == 1 ~ BulkLoss_F2),\n",
        "                   t1 = case_when(DevelopmentLag == 2 ~ BulkLoss_F2),\n",
        "                   t2 = case_when(DevelopmentLag == 3 ~ BulkLoss_F2),\n",
        "                   t3 = case_when(DevelopmentLag == 4 ~ BulkLoss_F2),\n",
        "                   t4 = case_when(DevelopmentLag == 5 ~ BulkLoss_F2),\n",
        "                   t5 = case_when(DevelopmentLag == 6 ~ BulkLoss_F2),\n",
        "                   t6 = case_when(DevelopmentLag == 7 ~ BulkLoss_F2),\n",
        "                   t7 = case_when(DevelopmentLag == 8 ~ BulkLoss_F2),\n",
        "                   t8 = case_when(DevelopmentLag == 9 ~ BulkLoss_F2),\n",
        "                   t9 = case_when(DevelopmentLag == 10 ~ BulkLoss_F2)\n",
        "                   )\n",
        "matrix3 <- matrix_bulkloss %>% group_by(GRCODE, AccidentYear) %>%\n",
        "          summarise(t0 = sum(t0, na.rm = T),\n",
        "                    t1 = sum(t1, na.rm = T),\n",
        "                    t2 = sum(t2, na.rm = T),\n",
        "                    t3 = sum(t3, na.rm = T),\n",
        "                    t4 = sum(t4, na.rm = T),\n",
        "                    t5 = sum(t5, na.rm = T),\n",
        "                    t6 = sum(t6, na.rm = T),\n",
        "                    t7 = sum(t7, na.rm = T),\n",
        "                    t8 = sum(t8, na.rm = T),\n",
        "                    t9 = sum(t9, na.rm = T))\n",
        "\n",
        "# Construcción de matrices de cada empresa, Variable: EarnedPremDIR_F2\n",
        "matrix_dir <- data %>%\n",
        "            mutate(t0 = case_when(DevelopmentLag == 1 ~ EarnedPremDIR_F2),\n",
        "                   t1 = case_when(DevelopmentLag == 2 ~ EarnedPremDIR_F2),\n",
        "                   t2 = case_when(DevelopmentLag == 3 ~ EarnedPremDIR_F2),\n",
        "                   t3 = case_when(DevelopmentLag == 4 ~ EarnedPremDIR_F2),\n",
        "                   t4 = case_when(DevelopmentLag == 5 ~ EarnedPremDIR_F2),\n",
        "                   t5 = case_when(DevelopmentLag == 6 ~ EarnedPremDIR_F2),\n",
        "                   t6 = case_when(DevelopmentLag == 7 ~ EarnedPremDIR_F2),\n",
        "                   t7 = case_when(DevelopmentLag == 8 ~ EarnedPremDIR_F2),\n",
        "                   t8 = case_when(DevelopmentLag == 9 ~ EarnedPremDIR_F2),\n",
        "                   t9 = case_when(DevelopmentLag == 10 ~ EarnedPremDIR_F2)\n",
        "                   )\n",
        "matrix4 <- matrix_dir %>% group_by(GRCODE, AccidentYear) %>%\n",
        "          summarise(t0 = sum(t0, na.rm = T),\n",
        "                    t1 = sum(t1, na.rm = T),\n",
        "                    t2 = sum(t2, na.rm = T),\n",
        "                    t3 = sum(t3, na.rm = T),\n",
        "                    t4 = sum(t4, na.rm = T),\n",
        "                    t5 = sum(t5, na.rm = T),\n",
        "                    t6 = sum(t6, na.rm = T),\n",
        "                    t7 = sum(t7, na.rm = T),\n",
        "                    t8 = sum(t8, na.rm = T),\n",
        "                    t9 = sum(t9, na.rm = T))\n",
        "\n",
        "# Construcción de matrices de cada empresa, Variable: EarnedPremDIR_F2\n",
        "matrix_ceded <- data %>%\n",
        "            mutate(t0 = case_when(DevelopmentLag == 1 ~ EarnedPremCeded_F2),\n",
        "                   t1 = case_when(DevelopmentLag == 2 ~ EarnedPremCeded_F2),\n",
        "                   t2 = case_when(DevelopmentLag == 3 ~ EarnedPremCeded_F2),\n",
        "                   t3 = case_when(DevelopmentLag == 4 ~ EarnedPremCeded_F2),\n",
        "                   t4 = case_when(DevelopmentLag == 5 ~ EarnedPremCeded_F2),\n",
        "                   t5 = case_when(DevelopmentLag == 6 ~ EarnedPremCeded_F2),\n",
        "                   t6 = case_when(DevelopmentLag == 7 ~ EarnedPremCeded_F2),\n",
        "                   t7 = case_when(DevelopmentLag == 8 ~ EarnedPremCeded_F2),\n",
        "                   t8 = case_when(DevelopmentLag == 9 ~ EarnedPremCeded_F2),\n",
        "                   t9 = case_when(DevelopmentLag == 10 ~ EarnedPremCeded_F2)\n",
        "                   )\n",
        "matrix5 <- matrix_ceded %>% group_by(GRCODE, AccidentYear) %>%\n",
        "          summarise(t0 = sum(t0, na.rm = T),\n",
        "                    t1 = sum(t1, na.rm = T),\n",
        "                    t2 = sum(t2, na.rm = T),\n",
        "                    t3 = sum(t3, na.rm = T),\n",
        "                    t4 = sum(t4, na.rm = T),\n",
        "                    t5 = sum(t5, na.rm = T),\n",
        "                    t6 = sum(t6, na.rm = T),\n",
        "                    t7 = sum(t7, na.rm = T),\n",
        "                    t8 = sum(t8, na.rm = T),\n",
        "                    t9 = sum(t9, na.rm = T))\n",
        "\n",
        "# Construcción de matrices de cada empresa, Variable: EarnedPremNet_F2\n",
        "matrix_net <- data %>%\n",
        "            mutate(t0 = case_when(DevelopmentLag == 1 ~ EarnedPremNet_F2),\n",
        "                   t1 = case_when(DevelopmentLag == 2 ~ EarnedPremNet_F2),\n",
        "                   t2 = case_when(DevelopmentLag == 3 ~ EarnedPremNet_F2),\n",
        "                   t3 = case_when(DevelopmentLag == 4 ~ EarnedPremNet_F2),\n",
        "                   t4 = case_when(DevelopmentLag == 5 ~ EarnedPremNet_F2),\n",
        "                   t5 = case_when(DevelopmentLag == 6 ~ EarnedPremNet_F2),\n",
        "                   t6 = case_when(DevelopmentLag == 7 ~ EarnedPremNet_F2),\n",
        "                   t7 = case_when(DevelopmentLag == 8 ~ EarnedPremNet_F2),\n",
        "                   t8 = case_when(DevelopmentLag == 9 ~ EarnedPremNet_F2),\n",
        "                   t9 = case_when(DevelopmentLag == 10 ~ EarnedPremNet_F2)\n",
        "                   )\n",
        "matrix6 <- matrix_net %>% group_by(GRCODE, AccidentYear) %>%\n",
        "          summarise(t0 = sum(t0, na.rm = T),\n",
        "                    t1 = sum(t1, na.rm = T),\n",
        "                    t2 = sum(t2, na.rm = T),\n",
        "                    t3 = sum(t3, na.rm = T),\n",
        "                    t4 = sum(t4, na.rm = T),\n",
        "                    t5 = sum(t5, na.rm = T),\n",
        "                    t6 = sum(t6, na.rm = T),\n",
        "                    t7 = sum(t7, na.rm = T),\n",
        "                    t8 = sum(t8, na.rm = T),\n",
        "                    t9 = sum(t9, na.rm = T))\n"
      ],
      "metadata": {
        "colab": {
          "base_uri": "https://localhost:8080/"
        },
        "id": "GoeMNE6phmVz",
        "outputId": "eca4e3ee-e5cf-440b-bbf3-8c158e23b285"
      },
      "execution_count": null,
      "outputs": [
        {
          "output_type": "stream",
          "name": "stdout",
          "text": [
            "`summarise()` has grouped output by 'GRCODE'. You can override using the\n",
            "`.groups` argument.\n",
            "# A tibble: 340 × 12\n",
            "# Groups:   GRCODE [34]\n",
            "   GRCODE AccidentYear     t0     t1     t2     t3     t4    t5    t6    t7\n",
            "    <int>        <int>  <int>  <int>  <int>  <int>  <int> <int> <int> <int>\n",
            " 1    669         1988 121905 112211 103226  99599  96006 90487 82640 80406\n",
            " 2    669         1989 122679 113165 110037 101142  90817 81919 77491 73577\n",
            " 3    669         1990 118157 117497 116377  99895  89252 81916 79134 76333\n",
            " 4    669         1991 117981 122443 121056 113795 102830 98071 94870 91062\n",
            " 5    669         1992 131059 130155 124195 113974 106817 99182 92588 91000\n",
            " 6    669         1993 134700 130757 125253 114717 111294 98014 96872 95714\n",
            " 7    669         1994 136749 128192 121355 111877  96152 91502 90498 91870\n",
            " 8    669         1995 140962 132405 118332 100050  88809 82360 81986 81887\n",
            " 9    669         1996 134473 128980 113645 104273  99276 97782 97282 97738\n",
            "10    669         1997 137944 127727 114057 107001 102143 99665 99942 99968\n",
            "# ℹ 330 more rows\n",
            "# ℹ 2 more variables: t8 <int>, t9 <int>\n",
            "# ℹ Use `print(n = ...)` to see more rows\n",
            "`summarise()` has grouped output by 'GRCODE'. You can override using the\n",
            "`.groups` argument.\n",
            "# A tibble: 340 × 12\n",
            "# Groups:   GRCODE [34]\n",
            "   GRCODE AccidentYear    t0    t1    t2    t3    t4    t5    t6    t7    t8\n",
            "    <int>        <int> <int> <int> <int> <int> <int> <int> <int> <int> <int>\n",
            " 1    669         1988  2716 24576 43990 59722 71019 76354 76792 77207 77588\n",
            " 2    669         1989  3835 25158 45145 60331 67457 70821 71769 72085 72035\n",
            " 3    669         1990  4838 27965 50873 66400 71875 74755 75176 75250 75250\n",
            " 4    669         1991  4456 34241 64737 79390 84465 87375 89119 89825 90333\n",
            " 5    669         1992  5970 36080 68268 81783 86076 87167 88282 88857 89087\n",
            " 6    669         1993  9398 46210 77045 86298 91796 93827 95871 95943 95987\n",
            " 7    669         1994  6181 39204 70006 82385 86523 88387 90408 90525 91640\n",
            " 8    669         1995  7828 42356 70729 79340 81142 81891 81905 81897 81781\n",
            " 9    669         1996  8854 51400 81653 90504 94284 96456 97305 97175 97212\n",
            "10    669         1997  7818 47098 84142 93724 97401 97726 98250 98355 98627\n",
            "# ℹ 330 more rows\n",
            "# ℹ 1 more variable: t9 <int>\n",
            "# ℹ Use `print(n = ...)` to see more rows\n",
            "`summarise()` has grouped output by 'GRCODE'. You can override using the\n",
            "`.groups` argument.\n",
            "`summarise()` has grouped output by 'GRCODE'. You can override using the\n",
            "`.groups` argument.\n",
            "`summarise()` has grouped output by 'GRCODE'. You can override using the\n",
            "`.groups` argument.\n",
            "`summarise()` has grouped output by 'GRCODE'. You can override using the\n",
            "`.groups` argument.\n"
          ]
        }
      ]
    },
    {
      "cell_type": "markdown",
      "source": [
        "**Medidas descriptivas de cada variable**\n",
        "\n",
        "Es importante poder resumir y comparar la información que se está registrando en la matriz de cada empresa, para lo cual se hallan a continuación las medias por fila. Para saber si hay empresas aseguradoras en las que se haya reportado cantidades similares de dinero. Para esta comparación, se trabajará únicamente con las variables IncurLoss_F2 y CumPaidLoss_F2, que corresponden a las pérdidas reportadas y las pérdidas pagadas; respectivamente.\n"
      ],
      "metadata": {
        "id": "oC2eJapRhR8q"
      }
    },
    {
      "cell_type": "code",
      "source": [
        "%%R\n",
        "require(dplyr)\n",
        "\n",
        "years <- data %>% group_by(AccidentYear) %>% tally()\n",
        "#nrow(years)\n",
        "\n",
        "means_matrix <- data.frame()\n",
        "\n",
        "#i = 1\n",
        "\n",
        "for (i in 1:nrow(years)){\n",
        "    year_i <- years$AccidentYear[i]\n",
        "\n",
        "    temp_year <- matrix1 %>% filter(AccidentYear == 1988)#year_i)\n",
        "\n",
        "    matrix1_means <- as.data.frame(t(as.matrix(colMeans(temp_year[,3:12])))) %>% mutate(year_n = year_i)\n",
        "\n",
        "    rownames(matrix1_means) <- NULL\n",
        "\n",
        "    means_matrix <- rbind(means_matrix, matrix1_means)\n",
        "    print(matrix1_means)\n",
        "}\n",
        "\n"
      ],
      "metadata": {
        "colab": {
          "base_uri": "https://localhost:8080/"
        },
        "id": "XGn4rq-oYzzH",
        "outputId": "0357bcb0-2c5d-4847-c2dc-32b62ec780ab"
      },
      "execution_count": 1,
      "outputs": [
        {
          "output_type": "stream",
          "name": "stderr",
          "text": [
            "UsageError: Cell magic `%%R` not found.\n"
          ]
        }
      ]
    }
  ]
}