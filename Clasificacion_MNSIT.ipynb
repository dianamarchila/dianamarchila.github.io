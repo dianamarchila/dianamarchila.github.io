{
  "nbformat": 4,
  "nbformat_minor": 0,
  "metadata": {
    "colab": {
      "provenance": [],
      "mount_file_id": "12cVADvUp5Ak-fp5xns-3c0ucMHV-9iL8",
      "authorship_tag": "ABX9TyNiD/cdGV6YE2QV0dKIJecw",
      "include_colab_link": true
    },
    "kernelspec": {
      "name": "python3",
      "display_name": "Python 3"
    },
    "language_info": {
      "name": "python"
    }
  },
  "cells": [
    {
      "cell_type": "markdown",
      "metadata": {
        "id": "view-in-github",
        "colab_type": "text"
      },
      "source": [
        "<a href=\"https://colab.research.google.com/github/dianamarchila/dianamarchila.github.io/blob/main/Clasificacion_MNSIT.ipynb\" target=\"_parent\"><img src=\"https://colab.research.google.com/assets/colab-badge.svg\" alt=\"Open In Colab\"/></a>"
      ]
    },
    {
      "cell_type": "markdown",
      "source": [
        "# Clasificador de dígitos con el dataset MNSIT utilizando Naive Bayes\n",
        "\n",
        "---\n",
        "\n",
        "El conjunto de datos consta de un total de 70.000 imágenes; 60.000 imágenes de entrenamiento (usadas para crear un modelo de IR) y 10.000 imágenes de prueba (utilizadas para evaluar la exactitud del modelo). Cada imagen MNIST es una imagen digitalizada de un solo dígito manuscrita. Cada imagen es de 28 x 28 píxeles de tamaño. Cada valor de píxel está entre 0, que representa el blanco, y 255, que representa a negros."
      ],
      "metadata": {
        "id": "_Gp-_8j7Gg5p"
      }
    },
    {
      "cell_type": "markdown",
      "source": [
        "# Cargue y revisión de los datos\n",
        "\n",
        "MNIST es un conjunto de datos de dígitos escritos a mano, por lo que se utiliza comúnmente para la clasificación de imágenes. Originalmente los datos están en un formato de aproximación a imágenes donde cada celda corresponde a un pixel. Cada imagen está constituida por 784 pixeles, al convertirlos a imagen, tenemos imagenes de 28x28.\n",
        "\n",
        "En el código que se muestra a continuación, se utilizan algunas librerías especializadas en el modelamiento de NaiveBayes como lo son GaussianNB."
      ],
      "metadata": {
        "id": "srRWrw9znoBp"
      }
    },
    {
      "cell_type": "code",
      "source": [
        "from sklearn.datasets import fetch_openml\n",
        "from sklearn.model_selection import train_test_split\n",
        "from sklearn.naive_bayes import GaussianNB\n",
        "from sklearn import metrics\n",
        "\n",
        "# Cargar el conjunto de datos MNIST\n",
        "mnist = fetch_openml('mnist_784', version=1)"
      ],
      "metadata": {
        "id": "EYJs6Vq0uLf5"
      },
      "execution_count": null,
      "outputs": []
    },
    {
      "cell_type": "code",
      "source": [
        "import numpy as np\n",
        "import pandas as pd\n",
        "\n",
        "X = mnist['data']\n",
        "y = mnist['target']\n",
        "\n",
        "X.shape\n",
        "\n",
        "y.shape"
      ],
      "metadata": {
        "colab": {
          "base_uri": "https://localhost:8080/"
        },
        "id": "WKhv2UirvN7b",
        "outputId": "e22ed61f-139a-4a74-d752-f200c48b2fd5"
      },
      "execution_count": 24,
      "outputs": [
        {
          "output_type": "execute_result",
          "data": {
            "text/plain": [
              "(70000,)"
            ]
          },
          "metadata": {},
          "execution_count": 24
        }
      ]
    },
    {
      "cell_type": "markdown",
      "source": [
        "A continuación, podemos revisar un ejemplo de las imágenes que componen el dataset MNIST, en este caso la imagen tiene la etiqueta 7, aunque también la podríamos interprretar como un 1."
      ],
      "metadata": {
        "id": "UWnqzV-H_l3Y"
      }
    },
    {
      "cell_type": "code",
      "source": [
        "index = 42\n",
        "y.loc[index]"
      ],
      "metadata": {
        "colab": {
          "base_uri": "https://localhost:8080/",
          "height": 35
        },
        "id": "Xn22TyzF_7Z0",
        "outputId": "96135ef2-42fd-4fa7-91ec-3f701e106e33"
      },
      "execution_count": 55,
      "outputs": [
        {
          "output_type": "execute_result",
          "data": {
            "text/plain": [
              "'7'"
            ],
            "application/vnd.google.colaboratory.intrinsic+json": {
              "type": "string"
            }
          },
          "metadata": {},
          "execution_count": 55
        }
      ]
    },
    {
      "cell_type": "code",
      "source": [
        "ejemplo = np.array(X.loc[index])\n",
        "ejemplo_img = ejemplo.reshape(28, 28)\n",
        "\n",
        "plt.imshow(ejemplo_img, cmap='binary')\n",
        "plt.axis('off')\n",
        "plt.show()"
      ],
      "metadata": {
        "colab": {
          "base_uri": "https://localhost:8080/",
          "height": 406
        },
        "id": "w654TfID-_1R",
        "outputId": "a9485a96-8d92-4100-cf72-c47580172a88"
      },
      "execution_count": 56,
      "outputs": [
        {
          "output_type": "display_data",
          "data": {
            "text/plain": [
              "<Figure size 640x480 with 1 Axes>"
            ],
            "image/png": "[encoded data removed]"
          },
          "metadata": {}
        }
      ]
    },
    {
      "cell_type": "markdown",
      "source": [
        "# Preprocesamiento de los datos\n",
        "\n",
        "Una vez cargados los datos, para poder entrenar el modelo sin sesgos, es necesario dividir el dataset en datos de entrenamiento y datos de prueba. En este caso, de los 70.000 del dataset de entrenamiento, dejaremos 56.000 para entrenamiento del modelo y los 14.000 restantes para las pruebas de ajuste."
      ],
      "metadata": {
        "id": "uMWAdBYfo4TX"
      }
    },
    {
      "cell_type": "code",
      "source": [
        "# Dividir el conjunto de datos en entrenamiento y prueba\n",
        "X_train, X_test, y_train, y_test = train_test_split(X, y, test_size=0.2, random_state=42)\n",
        "\n",
        "X_train.shape\n",
        "X_test.shape"
      ],
      "metadata": {
        "id": "i5sdFi9yoWwy",
        "colab": {
          "base_uri": "https://localhost:8080/"
        },
        "outputId": "a267f546-de0d-432f-d478-296ab86fa5e4"
      },
      "execution_count": 36,
      "outputs": [
        {
          "output_type": "execute_result",
          "data": {
            "text/plain": [
              "(14000, 784)"
            ]
          },
          "metadata": {},
          "execution_count": 36
        }
      ]
    },
    {
      "cell_type": "markdown",
      "source": [
        "# Entrenamiento del modelo\n",
        "\n",
        "Usando las librerías mencionadas previamente, se hallan las probabilidades por medio de la función GaussianNB, de esta manera se obtienen los resultados"
      ],
      "metadata": {
        "id": "qYGbz1cQS0LF"
      }
    },
    {
      "cell_type": "code",
      "source": [
        "# Inicializar y entrenar el modelo Naive Bayes (GaussianNB)\n",
        "model = GaussianNB()\n",
        "model.fit(X_train, y_train)"
      ],
      "metadata": {
        "colab": {
          "base_uri": "https://localhost:8080/",
          "height": 75
        },
        "id": "2K_qTDkNS3yj",
        "outputId": "0df4e8df-2748-4ced-cdac-ad91b1929794"
      },
      "execution_count": 37,
      "outputs": [
        {
          "output_type": "execute_result",
          "data": {
            "text/plain": [
              "GaussianNB()"
            ],
            "text/html": [
              "<style>#sk-container-id-1 {color: black;background-color: white;}#sk-container-id-1 pre{padding: 0;}#sk-container-id-1 div.sk-toggleable {background-color: white;}#sk-container-id-1 label.sk-toggleable__label {cursor: pointer;display: block;width: 100%;margin-bottom: 0;padding: 0.3em;box-sizing: border-box;text-align: center;}#sk-container-id-1 label.sk-toggleable__label-arrow:before {content: \"▸\";float: left;margin-right: 0.25em;color: #696969;}#sk-container-id-1 label.sk-toggleable__label-arrow:hover:before {color: black;}#sk-container-id-1 div.sk-estimator:hover label.sk-toggleable__label-arrow:before {color: black;}#sk-container-id-1 div.sk-toggleable__content {max-height: 0;max-width: 0;overflow: hidden;text-align: left;background-color: #f0f8ff;}#sk-container-id-1 div.sk-toggleable__content pre {margin: 0.2em;color: black;border-radius: 0.25em;background-color: #f0f8ff;}#sk-container-id-1 input.sk-toggleable__control:checked~div.sk-toggleable__content {max-height: 200px;max-width: 100%;overflow: auto;}#sk-container-id-1 input.sk-toggleable__control:checked~label.sk-toggleable__label-arrow:before {content: \"▾\";}#sk-container-id-1 div.sk-estimator input.sk-toggleable__control:checked~label.sk-toggleable__label {background-color: #d4ebff;}#sk-container-id-1 div.sk-label input.sk-toggleable__control:checked~label.sk-toggleable__label {background-color: #d4ebff;}#sk-container-id-1 input.sk-hidden--visually {border: 0;clip: rect(1px 1px 1px 1px);clip: rect(1px, 1px, 1px, 1px);height: 1px;margin: -1px;overflow: hidden;padding: 0;position: absolute;width: 1px;}#sk-container-id-1 div.sk-estimator {font-family: monospace;background-color: #f0f8ff;border: 1px dotted black;border-radius: 0.25em;box-sizing: border-box;margin-bottom: 0.5em;}#sk-container-id-1 div.sk-estimator:hover {background-color: #d4ebff;}#sk-container-id-1 div.sk-parallel-item::after {content: \"\";width: 100%;border-bottom: 1px solid gray;flex-grow: 1;}#sk-container-id-1 div.sk-label:hover label.sk-toggleable__label {background-color: #d4ebff;}#sk-container-id-1 div.sk-serial::before {content: \"\";position: absolute;border-left: 1px solid gray;box-sizing: border-box;top: 0;bottom: 0;left: 50%;z-index: 0;}#sk-container-id-1 div.sk-serial {display: flex;flex-direction: column;align-items: center;background-color: white;padding-right: 0.2em;padding-left: 0.2em;position: relative;}#sk-container-id-1 div.sk-item {position: relative;z-index: 1;}#sk-container-id-1 div.sk-parallel {display: flex;align-items: stretch;justify-content: center;background-color: white;position: relative;}#sk-container-id-1 div.sk-item::before, #sk-container-id-1 div.sk-parallel-item::before {content: \"\";position: absolute;border-left: 1px solid gray;box-sizing: border-box;top: 0;bottom: 0;left: 50%;z-index: -1;}#sk-container-id-1 div.sk-parallel-item {display: flex;flex-direction: column;z-index: 1;position: relative;background-color: white;}#sk-container-id-1 div.sk-parallel-item:first-child::after {align-self: flex-end;width: 50%;}#sk-container-id-1 div.sk-parallel-item:last-child::after {align-self: flex-start;width: 50%;}#sk-container-id-1 div.sk-parallel-item:only-child::after {width: 0;}#sk-container-id-1 div.sk-dashed-wrapped {border: 1px dashed gray;margin: 0 0.4em 0.5em 0.4em;box-sizing: border-box;padding-bottom: 0.4em;background-color: white;}#sk-container-id-1 div.sk-label label {font-family: monospace;font-weight: bold;display: inline-block;line-height: 1.2em;}#sk-container-id-1 div.sk-label-container {text-align: center;}#sk-container-id-1 div.sk-container {/* jupyter's `normalize.less` sets `[hidden] { display: none; }` but bootstrap.min.css set `[hidden] { display: none !important; }` so we also need the `!important` here to be able to override the default hidden behavior on the sphinx rendered scikit-learn.org. See: https://github.com/scikit-learn/scikit-learn/issues/21755 */display: inline-block !important;position: relative;}#sk-container-id-1 div.sk-text-repr-fallback {display: none;}</style><div id=\"sk-container-id-1\" class=\"sk-top-container\"><div class=\"sk-text-repr-fallback\"><pre>GaussianNB()</pre><b>In a Jupyter environment, please rerun this cell to show the HTML representation or trust the notebook. <br />On GitHub, the HTML representation is unable to render, please try loading this page with nbviewer.org.</b></div><div class=\"sk-container\" hidden><div class=\"sk-item\"><div class=\"sk-estimator sk-toggleable\"><input class=\"sk-toggleable__control sk-hidden--visually\" id=\"sk-estimator-id-1\" type=\"checkbox\" checked><label for=\"sk-estimator-id-1\" class=\"sk-toggleable__label sk-toggleable__label-arrow\">GaussianNB</label><div class=\"sk-toggleable__content\"><pre>GaussianNB()</pre></div></div></div></div></div>"
            ]
          },
          "metadata": {},
          "execution_count": 37
        }
      ]
    },
    {
      "cell_type": "markdown",
      "source": [
        "# Desempeño del modelo"
      ],
      "metadata": {
        "id": "lH_HSUyATCTm"
      }
    },
    {
      "cell_type": "code",
      "source": [
        "# Realizar predicciones en el conjunto de prueba\n",
        "y_pred = model.predict(X_test)\n",
        "\n",
        "# Evaluar la precisión del modelo\n",
        "accuracy = metrics.accuracy_score(y_test, y_pred)\n",
        "print(f'Precisión del modelo: {accuracy * 100:.2f}%')"
      ],
      "metadata": {
        "colab": {
          "base_uri": "https://localhost:8080/"
        },
        "id": "gX-6dhRsTFz2",
        "outputId": "a5d5c0a2-e2c0-4f07-b393-f3ad550c8e2c"
      },
      "execution_count": 38,
      "outputs": [
        {
          "output_type": "stream",
          "name": "stdout",
          "text": [
            "Precisión del modelo: 55.16%\n"
          ]
        }
      ]
    },
    {
      "cell_type": "markdown",
      "source": [
        "Vemos en este caso un ejemplo donde el modelo logra predecir adecuadamente el número de la imagen."
      ],
      "metadata": {
        "id": "rZpEvx2BEH7a"
      }
    },
    {
      "cell_type": "code",
      "source": [
        "# Evaluar la precisión del modelo\n",
        "index = 1000\n",
        "\n",
        "print(\"Etiqueta real: \", y_test.iloc[index])\n",
        "print(\"Etiqueta predicha por el modelo: \",y_pred[index])\n"
      ],
      "metadata": {
        "colab": {
          "base_uri": "https://localhost:8080/"
        },
        "id": "wqZQJ2ozBtfq",
        "outputId": "2641aff1-003d-4122-d065-6173f96efa04"
      },
      "execution_count": 66,
      "outputs": [
        {
          "output_type": "stream",
          "name": "stdout",
          "text": [
            "Etiqueta real:  6\n",
            "Etiqueta predicha por el modelo:  6\n"
          ]
        }
      ]
    },
    {
      "cell_type": "code",
      "source": [
        "ejemplo = np.array(X_test.iloc[index])\n",
        "ejemplo_img = ejemplo.reshape(28, 28)\n",
        "\n",
        "plt.imshow(ejemplo_img, cmap='binary')\n",
        "plt.axis('off')\n",
        "plt.show()"
      ],
      "metadata": {
        "colab": {
          "base_uri": "https://localhost:8080/",
          "height": 406
        },
        "id": "5yXj_q4HB_kt",
        "outputId": "0c745290-021e-4c1b-9b3d-022ac20e0c5f"
      },
      "execution_count": 67,
      "outputs": [
        {
          "output_type": "display_data",
          "data": {
            "text/plain": [
              "<Figure size 640x480 with 1 Axes>"
            ],
            "image/png": "[encoded data removed]"
          },
          "metadata": {}
        }
      ]
    },
    {
      "cell_type": "markdown",
      "source": [
        "Por otra parte, a continuación vemos que hay algunos números sobre los cuales es difícil que el modelo acierte, ya que se salen de un mismo margen de predicción y la forma no es clara."
      ],
      "metadata": {
        "id": "Ls_Kt8QPETft"
      }
    },
    {
      "cell_type": "code",
      "source": [
        "# Evaluar la precisión del modelo\n",
        "index = 100\n",
        "\n",
        "print(\"Etiqueta real: \", y_test.iloc[index])\n",
        "print(\"Etiqueta predicha por el modelo: \",y_pred[index])\n"
      ],
      "metadata": {
        "colab": {
          "base_uri": "https://localhost:8080/"
        },
        "outputId": "005a907d-4185-4957-ef02-60d4c51ab1b2",
        "id": "gBgmhb0IEopd"
      },
      "execution_count": 68,
      "outputs": [
        {
          "output_type": "stream",
          "name": "stdout",
          "text": [
            "Etiqueta real:  3\n",
            "Etiqueta predicha por el modelo:  0\n"
          ]
        }
      ]
    },
    {
      "cell_type": "code",
      "source": [
        "ejemplo = np.array(X_test.iloc[index])\n",
        "ejemplo_img = ejemplo.reshape(28, 28)\n",
        "\n",
        "plt.imshow(ejemplo_img, cmap='binary')\n",
        "plt.axis('off')\n",
        "plt.show()"
      ],
      "metadata": {
        "colab": {
          "base_uri": "https://localhost:8080/",
          "height": 406
        },
        "outputId": "9436e251-fbfa-49f1-9b88-af072015f881",
        "id": "fA3ejMyAErFl"
      },
      "execution_count": 69,
      "outputs": [
        {
          "output_type": "display_data",
          "data": {
            "text/plain": [
              "<Figure size 640x480 with 1 Axes>"
            ],
            "image/png": "[encoded data removed]"
          },
          "metadata": {}
        }
      ]
    }
  ]
}